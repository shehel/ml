{
 "cells": [
  {
   "cell_type": "code",
   "execution_count": 136,
   "metadata": {
    "collapsed": false
   },
   "outputs": [],
   "source": [
    "import math\n",
    "import pandas as pd\n",
    "import numpy as np\n",
    "import matplotlib.pyplot as plt\n",
    "from pylab import rand,plot,show,norm\n"
   ]
  },
  {
   "cell_type": "code",
   "execution_count": 137,
   "metadata": {
    "collapsed": false
   },
   "outputs": [
    {
     "name": "stdout",
     "output_type": "stream",
     "text": [
      "[[ 1.   1.  -1.  -1. ]\n",
      " [ 1.   2.   1.   1. ]\n",
      " [ 1.   1.5  0.5 -1. ]\n",
      " [ 1.   2.  -1.  -1. ]\n",
      " [ 1.   1.   2.   1. ]]\n"
     ]
    }
   ],
   "source": [
    "data = np.array([\n",
    "                [1, 1,-1,-1],\n",
    "                 [1, 2,1,1],\n",
    "                [1, 1.5,0.5,-1],\n",
    "                [1, 2,-1,-1],\n",
    "                [1, 1,2,1]])\n",
    "print (data)"
   ]
  },
  {
   "cell_type": "code",
   "execution_count": 138,
   "metadata": {
    "collapsed": false
   },
   "outputs": [
    {
     "name": "stdout",
     "output_type": "stream",
     "text": [
      "[[100], [200], [100]]\n"
     ]
    }
   ],
   "source": [
    "#w = np.random.random((3,1))\n",
    "w = [[100], [200], [100]]\n",
    "print (w)"
   ]
  },
  {
   "cell_type": "code",
   "execution_count": 139,
   "metadata": {
    "collapsed": true
   },
   "outputs": [],
   "source": [
    "lr = 100\n"
   ]
  },
  {
   "cell_type": "code",
   "execution_count": 140,
   "metadata": {
    "collapsed": false
   },
   "outputs": [
    {
     "name": "stdout",
     "output_type": "stream",
     "text": [
      "[[-300.]\n",
      " [-200.]\n",
      " [ 700.]]\n"
     ]
    }
   ],
   "source": [
    "dicty = {}\n",
    "dicty[0] = 1\n",
    "index = 0\n",
    "#Loop if theres any element in list that equates to a non-zero val\n",
    "while all(x==0 for x in dicty.values()) == False:\n",
    "    index = 0\n",
    "    for row in data:\n",
    "        #Get label\n",
    "        t = row[3]\n",
    "        #Remove label \n",
    "        row = np.delete(row,[3], axis=0)\n",
    "        \n",
    "        dot = np.dot(row,w)\n",
    "        \n",
    "        error = t - math.copysign(1, dot)\n",
    "        #print (\"label val is \",t, \"dot product val is \", dot, \"activation func \", math.copysign(1, dot), \"error \", error)\n",
    "        #Append error to a dict \n",
    "        dicty[index] = error\n",
    "        \n",
    "        #learning rate times error\n",
    "        lrE = lr * error\n",
    "        \n",
    "        x = lrE*row\n",
    "        w += lrE*row.reshape(3,1)\n",
    "        index = index+1\n",
    "        \n",
    "print (w)\n",
    "\n"
   ]
  },
  {
   "cell_type": "code",
   "execution_count": 143,
   "metadata": {
    "collapsed": false
   },
   "outputs": [
    {
     "data": {
      "image/png": "[encoded data removed]",
      "text/plain": [
       "<matplotlib.figure.Figure at 0x7fba7c8779e8>"
      ]
     },
     "metadata": {},
     "output_type": "display_data"
    }
   ],
   "source": [
    "X = np.array([[1, -1], [2, 1], [1.5, 0.5], [2, -1], [1,2]])\n",
    "Y = np.array([-1, 1, -1, -1, 1])\n",
    "\n",
    "\n",
    "#plotting data points\n",
    "plt.plot(X[:,0], X[:, 1], 'ro')\n",
    "plt.axis([-5, 5, -5, 5])\n",
    "#equations of linear regression lines\n",
    "#y = w[0] + w[1]*X[:, 0] + w[2]*X[0:,1]\n",
    "#y2 = cubicW0 + cubicW1*year + cubicW2*(year**2) + cubicW3*(year**3)\n",
    "#plt.plot([0, (-w[0]/w[2])], [(-w[0]/w[1]), 0], 'k', lw=2)\n",
    "\n",
    "n = norm(w)\n",
    "ww = w/n\n",
    "ww1 = [ww[2],-ww[1]]\n",
    "ww2 = [-ww[2],ww[1]]\n",
    "plot([ww1[0]*3, ww2[0]*3],[ww1[1], ww2[1]],'--k')\n",
    "show()\n",
    "#plt.plot(male100['Year'],y,'r-',color = 'r')\n",
    "#plt.plot(male100['Year'],y2,'r-',color = 'g')\n",
    "plt.show()"
   ]
  },
  {
   "cell_type": "code",
   "execution_count": null,
   "metadata": {
    "collapsed": true
   },
   "outputs": [],
   "source": []
  },
  {
   "cell_type": "code",
   "execution_count": null,
   "metadata": {
    "collapsed": true
   },
   "outputs": [],
   "source": []
  }
 ],
 "metadata": {
  "anaconda-cloud": {},
  "kernelspec": {
   "display_name": "Python [conda root]",
   "language": "python",
   "name": "conda-root-py"
  },
  "language_info": {
   "codemirror_mode": {
    "name": "ipython",
    "version": 3
   },
   "file_extension": ".py",
   "mimetype": "text/x-python",
   "name": "python",
   "nbconvert_exporter": "python",
   "pygments_lexer": "ipython3",
   "version": "3.5.2"
  }
 },
 "nbformat": 4,
 "nbformat_minor": 1
}
