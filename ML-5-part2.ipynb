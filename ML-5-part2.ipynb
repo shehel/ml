{
 "cells": [
  {
   "cell_type": "code",
   "execution_count": 6,
   "metadata": {
    "collapsed": true
   },
   "outputs": [],
   "source": [
    "import math\n",
    "import pandas as pd\n",
    "import numpy as np\n",
    "import matplotlib.pyplot as plt\n",
    "from pylab import rand,plot,show,norm\n"
   ]
  },
  {
   "cell_type": "code",
   "execution_count": 7,
   "metadata": {
    "collapsed": true
   },
   "outputs": [],
   "source": [
    "def scaleData(dataFrame,flag,tLabel):\n",
    "    df = dataFrame.copy()\n",
    "    #Note: don't scale the target - so drop tLabel from the list of columns to iterate through\n",
    "    for var in df.drop(tLabel,axis=1):\n",
    "        mean = df[var].mean()\n",
    "        std = df[var].std()\n",
    "        l1 = (df[var].abs()).sum()\n",
    "\n",
    "        if(flag == 1):\n",
    "            df[var] = (df[var]-mean)/std\n",
    "        else:\n",
    "            df[var] = df[var]/l1\n",
    "\n",
    "    return df\n",
    "\n",
    "            \n"
   ]
  },
  {
   "cell_type": "code",
   "execution_count": 15,
   "metadata": {
    "collapsed": false
   },
   "outputs": [
    {
     "name": "stdout",
     "output_type": "stream",
     "text": [
      "        Year   Time\n",
      "0  -1.580157  12.00\n",
      "1  -1.468031  11.00\n",
      "2  -1.355904  11.00\n",
      "3  -1.299840  11.20\n",
      "4  -1.243777  10.80\n",
      "5  -1.131650  10.80\n",
      "6  -0.907397  10.80\n",
      "7  -0.795270  10.60\n",
      "8  -0.683143  10.80\n",
      "9  -0.571016  10.30\n",
      "10 -0.458889  10.30\n",
      "11 -0.122509  10.30\n",
      "12 -0.010382  10.40\n",
      "13  0.101745  10.50\n",
      "14  0.213872  10.20\n",
      "15  0.325998  10.00\n",
      "16  0.438125   9.95\n",
      "17  0.550252  10.14\n",
      "18  0.662379  10.06\n",
      "19  0.774506  10.25\n",
      "20  0.886632   9.99\n",
      "21  0.998759   9.92\n",
      "22  1.110886   9.96\n",
      "23  1.223013   9.84\n",
      "24  1.335140   9.87\n",
      "25  1.447266   9.85\n",
      "26  1.559393   9.69\n"
     ]
    },
    {
     "ename": "TypeError",
     "evalue": "list indices must be integers or slices, not float",
     "output_type": "error",
     "traceback": [
      "\u001b[0;31m---------------------------------------------------------------------------\u001b[0m",
      "\u001b[0;31mTypeError\u001b[0m                                 Traceback (most recent call last)",
      "\u001b[0;32m<ipython-input-15-fcfa1c3b3553>\u001b[0m in \u001b[0;36m<module>\u001b[0;34m()\u001b[0m\n\u001b[1;32m      7\u001b[0m \u001b[0mprint\u001b[0m \u001b[0;34m(\u001b[0m\u001b[0mscaledMale100\u001b[0m\u001b[0;34m)\u001b[0m\u001b[0;34m\u001b[0m\u001b[0m\n\u001b[1;32m      8\u001b[0m \u001b[0;34m\u001b[0m\u001b[0m\n\u001b[0;32m----> 9\u001b[0;31m \u001b[0mw\u001b[0m \u001b[0;34m=\u001b[0m \u001b[0;34m[\u001b[0m\u001b[0;34m[\u001b[0m\u001b[0;36m0.4\u001b[0m\u001b[0;34m]\u001b[0m\u001b[0;34m[\u001b[0m\u001b[0;36m0.5\u001b[0m\u001b[0;34m]\u001b[0m\u001b[0;34m]\u001b[0m\u001b[0;34m\u001b[0m\u001b[0m\n\u001b[0m\u001b[1;32m     10\u001b[0m \u001b[0mlr\u001b[0m \u001b[0;34m=\u001b[0m \u001b[0;36m0.5\u001b[0m\u001b[0;34m\u001b[0m\u001b[0m\n\u001b[1;32m     11\u001b[0m \u001b[0;34m\u001b[0m\u001b[0m\n",
      "\u001b[0;31mTypeError\u001b[0m: list indices must be integers or slices, not float"
     ]
    }
   ],
   "source": [
    "\n",
    "male100 = pd.read_csv('male100.csv', header=0)\n",
    "\n",
    "scaledMale100 = scaleData(male100,1,'Time')\n",
    "\n",
    "print (scaledMale100)\n",
    "\n",
    "w = [[0.4][0.5]]\n",
    "lr = 0.5\n",
    "\n",
    "dicty[0] = 1\n",
    "index = 0\n",
    "#Loop if theres any element in list that equates to a non-zero val\n",
    "while all(x==0 for x in dicty.values()) == False:\n",
    "    index = 0\n",
    "    for row in data:\n",
    "        #Get label\n",
    "        t = row[3]\n",
    "        #Remove label \n",
    "        row = np.delete(row,[3], axis=0)\n",
    "        \n",
    "        dot = np.dot(row,w)\n",
    "        \n",
    "        error = t - math.copysign(1, dot)\n",
    "        #print (\"label val is \",t, \"dot product val is \", dot, \"activation func \", math.copysign(1, dot), \"error \", error)\n",
    "        #Append error to a dict \n",
    "        dicty[index] = error\n",
    "        \n",
    "        #learning rate times error\n",
    "        lrE = lr * error\n",
    "        \n",
    "        x = lrE*row\n",
    "        w += lrE*row.reshape(3,1)\n",
    "        index = index+1\n",
    "        \n",
    "print (w)"
   ]
  },
  {
   "cell_type": "code",
   "execution_count": null,
   "metadata": {
    "collapsed": true
   },
   "outputs": [],
   "source": []
  }
 ],
 "metadata": {
  "anaconda-cloud": {},
  "kernelspec": {
   "display_name": "Python [conda root]",
   "language": "python",
   "name": "conda-root-py"
  },
  "language_info": {
   "codemirror_mode": {
    "name": "ipython",
    "version": 3
   },
   "file_extension": ".py",
   "mimetype": "text/x-python",
   "name": "python",
   "nbconvert_exporter": "python",
   "pygments_lexer": "ipython3",
   "version": "3.5.2"
  }
 },
 "nbformat": 4,
 "nbformat_minor": 1
}
