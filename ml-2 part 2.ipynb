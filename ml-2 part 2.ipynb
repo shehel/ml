{
 "cells": [
  {
   "cell_type": "code",
   "execution_count": 1,
   "metadata": {
    "collapsed": true
   },
   "outputs": [],
   "source": [
    "import math\n",
    "import pandas as pd\n",
    "import numpy as np"
   ]
  },
  {
   "cell_type": "code",
   "execution_count": 155,
   "metadata": {
    "collapsed": false
   },
   "outputs": [],
   "source": [
    "def entropy(positiveObs, negativeObs):\n",
    "    total = positiveObs+negativeObs\n",
    "    if negativeObs == 0:\n",
    "        return 0\n",
    "    entropy = (-1*((positiveObs/total)*math.log(positiveObs/total, 2)))+(-1*((negativeObs/total)*math.log(negativeObs/total, 2)))\n",
    "    return entropy;"
   ]
  },
  {
   "cell_type": "code",
   "execution_count": 156,
   "metadata": {
    "collapsed": false
   },
   "outputs": [],
   "source": [
    "def informationGain(obsSet, tLabel, outcomeLabel):\n",
    "    positiveObsDict = {}\n",
    "    negativeObsDict = {}\n",
    "\n",
    "    totalPositive = 0\n",
    "    totalNegative = 0\n",
    "    for index,rows in obsSet.iterrows():          \n",
    "            x = rows[tLabel]\n",
    "            outcome = rows[outcomeLabel]\n",
    "            if outcome == 'yes':\n",
    "                totalPositive += 1\n",
    "                new = positiveObsDict.get(x)\n",
    "                if (new == None):\n",
    "                    new = 1\n",
    "                else:\n",
    "                    new += 1\n",
    "                positiveObsDict.update({x:new}) \n",
    "            else:\n",
    "                totalNegative += 1\n",
    "                new = negativeObsDict.get(x)\n",
    "                if (new == None):\n",
    "                    new = 1\n",
    "                else:\n",
    "                    new += 1\n",
    "                negativeObsDict.update({x:new}) \n",
    "    total = totalPositive + totalNegative           \n",
    "    gain = entropy(totalPositive, totalNegative)\n",
    "    for team in positiveObsDict:\n",
    "        positive = positiveObsDict.get(team)\n",
    "        negative = negativeObsDict.get(team)\n",
    "        if negative == None:\n",
    "            negative = 0\n",
    "        subTropy = entropy(positive, negative)\n",
    "        weight = (positive+negative)/total\n",
    "        calc =  weight * subTropy\n",
    "        gain = gain - calc \n",
    "    return gain"
   ]
  },
  {
   "cell_type": "code",
   "execution_count": 157,
   "metadata": {
    "collapsed": false
   },
   "outputs": [
    {
     "name": "stdout",
     "output_type": "stream",
     "text": [
      "     outlook  temp humidity    wind play\n",
      "0      sunny   hot     high    weak   no\n",
      "1      sunny   hot     high  strong   no\n",
      "2   overcast   hot     high    weak  yes\n",
      "3       rain  mild     high    weak  yes\n",
      "4       rain  cool   normal    weak  yes\n",
      "5       rain  cool   normal  strong   no\n",
      "6   overcast  cool   normal  strong  yes\n",
      "7      sunny  mild     high    weak   no\n",
      "8      sunny  cool   normal    weak  yes\n",
      "9       rain  mild   normal    weak  yes\n",
      "10     sunny  mild   normal  strong  yes\n",
      "11  overcast  mild     high  strong  yes\n",
      "12  overcast   hot   normal    weak  yes\n",
      "13      rain  mild     high  strong   no\n"
     ]
    }
   ],
   "source": [
    "tennisDf = pd.read_csv('playTennis.csv', header = 0)\n",
    "print(tennisDf)"
   ]
  },
  {
   "cell_type": "code",
   "execution_count": 160,
   "metadata": {
    "collapsed": false
   },
   "outputs": [
    {
     "name": "stdout",
     "output_type": "stream",
     "text": [
      "0.029222565658954647\n",
      "0.2467498197744391\n",
      "0.15183550136234136\n"
     ]
    }
   ],
   "source": [
    "print(informationGain(tennisDf, 'temp', 'play'))\n",
    "print(informationGain(tennisDf, 'outlook', 'play'))\n",
    "print(informationGain(tennisDf, 'humidity', 'play'))"
   ]
  },
  {
   "cell_type": "code",
   "execution_count": null,
   "metadata": {
    "collapsed": true
   },
   "outputs": [],
   "source": []
  },
  {
   "cell_type": "code",
   "execution_count": null,
   "metadata": {
    "collapsed": true
   },
   "outputs": [],
   "source": []
  }
 ],
 "metadata": {
  "anaconda-cloud": {},
  "kernelspec": {
   "display_name": "Python [default]",
   "language": "python",
   "name": "python3"
  },
  "language_info": {
   "codemirror_mode": {
    "name": "ipython",
    "version": 3
   },
   "file_extension": ".py",
   "mimetype": "text/x-python",
   "name": "python",
   "nbconvert_exporter": "python",
   "pygments_lexer": "ipython3",
   "version": "3.5.2"
  }
 },
 "nbformat": 4,
 "nbformat_minor": 1
}
