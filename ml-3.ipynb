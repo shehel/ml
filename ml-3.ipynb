{
 "cells": [
  {
   "cell_type": "code",
   "execution_count": 2,
   "metadata": {
    "collapsed": true
   },
   "outputs": [],
   "source": [
    "%matplotlib inline\n",
    "import math\n",
    "import pandas as pd\n",
    "import numpy as np\n",
    "import matplotlib.pyplot as plt\n",
    "import sklearn.linear_model as sk\n",
    "from sklearn import tree"
   ]
  },
  {
   "cell_type": "code",
   "execution_count": 3,
   "metadata": {
    "collapsed": true
   },
   "outputs": [],
   "source": [
    "def scaleData(dataFrame,flag,tLabel):\n",
    "    df = dataFrame.copy()\n",
    "\n",
    "    for var in df.drop(tLabel,axis=1):\n",
    "        mean = df[var].mean()\n",
    "        std = df[var].std()\n",
    "        l1 = (df[var].abs()).sum()\n",
    "\n",
    "        if(flag == 1):\n",
    "            df[var] = (df[var]-mean)/std\n",
    "        else:\n",
    "            df[var] = df[var]/l1\n",
    "\n",
    "    return df"
   ]
  },
  {
   "cell_type": "code",
   "execution_count": 4,
   "metadata": {
    "collapsed": false
   },
   "outputs": [],
   "source": [
    "df = pd.read_csv('prostate.data', header = 0, delim_whitespace=True)\n",
    "#print (df)\n",
    "dfTrain = df[df.train == 'T']\n",
    "dfTest = df[df.train == 'F']\n",
    "dfTrain = dfTrain.drop('train', 1)\n",
    "dfTest = dfTest.drop('train', 1)\n",
    "\n",
    "dfScTrain = scaleData(dfTrain, 1, 'lpsa')\n",
    "dfScTest = scaleData(dfTest, 1, 'lpsa')\n",
    "#dfScTrain = dfTrain.copy()\n",
    "#dfScTest = dfTest.copy()\n",
    "\n"
   ]
  },
  {
   "cell_type": "code",
   "execution_count": 5,
   "metadata": {
    "collapsed": false
   },
   "outputs": [
    {
     "name": "stdout",
     "output_type": "stream",
     "text": [
      "3.51 [[ 0.63591522  0.28854502 -0.11881213  0.20473644  0.291185   -0.19058621\n",
      "   0.00588271  0.22138017]]\n"
     ]
    }
   ],
   "source": [
    "ridge = sk.RidgeCV(alphas = np.arange(-20,20,0.01))\n",
    "ridge.fit(dfScTrain.iloc[:, 0:8], dfScTrain.iloc[:, 8:9])\n",
    "print (ridge.alpha_, ridge.coef_)"
   ]
  },
  {
   "cell_type": "code",
   "execution_count": 6,
   "metadata": {
    "collapsed": false
   },
   "outputs": [
    {
     "name": "stdout",
     "output_type": "stream",
     "text": [
      "0.1 [ 0.57487434  0.2300614  -0.          0.10508914  0.17173396  0.          0.\n",
      "  0.0653523 ]\n"
     ]
    },
    {
     "name": "stderr",
     "output_type": "stream",
     "text": [
      "/opt/anaconda/lib/python3.5/site-packages/sklearn/linear_model/coordinate_descent.py:466: ConvergenceWarning: Objective did not converge. You might want to increase the number of iterations\n",
      "  ConvergenceWarning)\n"
     ]
    }
   ],
   "source": [
    "lasso = sk.LassoCV(alphas=np.arange(-20,20,0.05))\n",
    "fit = lasso.fit(dfScTrain.iloc[:, 0:8], dfScTrain.iloc[:, 8:9].values.ravel())\n",
    "print (lasso.alpha_, lasso.coef_)\n"
   ]
  },
  {
   "cell_type": "code",
   "execution_count": 15,
   "metadata": {
    "collapsed": false
   },
   "outputs": [
    {
     "data": {
      "text/plain": [
       "DecisionTreeRegressor(criterion='mse', max_depth=None, max_features=3,\n",
       "           max_leaf_nodes=None, min_samples_leaf=1, min_samples_split=2,\n",
       "           min_weight_fraction_leaf=0.0, presort=False, random_state=None,\n",
       "           splitter='best')"
      ]
     },
     "execution_count": 15,
     "metadata": {},
     "output_type": "execute_result"
    }
   ],
   "source": [
    "dTree = tree.DecisionTreeRegressor(max_features = 3)\n",
    "dTree.fit(dfScTrain.iloc[:, 0:8], dfScTrain.iloc[:, 8:9])"
   ]
  },
  {
   "cell_type": "code",
   "execution_count": 16,
   "metadata": {
    "collapsed": false
   },
   "outputs": [
    {
     "name": "stdout",
     "output_type": "stream",
     "text": [
      "[[ 0.71640701  0.2926424  -0.14254963  0.2120076   0.30961953 -0.28900562\n",
      "  -0.02091352  0.27734595]]\n"
     ]
    }
   ],
   "source": [
    "linear = sk.LinearRegression()\n",
    "linear.fit(dfScTrain.iloc[:, 0:8], dfScTrain.iloc[:, 8:9])\n",
    "print (linear.coef_)"
   ]
  },
  {
   "cell_type": "code",
   "execution_count": 17,
   "metadata": {
    "collapsed": false
   },
   "outputs": [
    {
     "name": "stdout",
     "output_type": "stream",
     "text": [
      "0.524107605502\n"
     ]
    }
   ],
   "source": [
    "#PREDICTIN DOOM\n",
    "predictedSet = (ridge.predict(dfScTest.iloc[:, 0:8]))\n",
    "totalLoss = 0\n",
    "for index, list in enumerate(predictedSet):\n",
    "    loss = (list[0] -  dfScTest['lpsa'].iloc[index]) ** 2 \n",
    "    totalLoss = totalLoss + loss    \n",
    "print (totalLoss/len(predictedSet))"
   ]
  },
  {
   "cell_type": "code",
   "execution_count": 18,
   "metadata": {
    "collapsed": false
   },
   "outputs": [
    {
     "name": "stdout",
     "output_type": "stream",
     "text": [
      "0.549194139132\n"
     ]
    }
   ],
   "source": [
    "predictedSet = (linear.predict(dfScTest.iloc[:, 0:8]))\n",
    "totalLoss = 0\n",
    "for index, list in enumerate(predictedSet):\n",
    "    loss = (list[0] -  dfScTest['lpsa'].iloc[index]) ** 2 \n",
    "    totalLoss = totalLoss + loss    \n",
    "print (totalLoss/len(predictedSet))"
   ]
  },
  {
   "cell_type": "code",
   "execution_count": 19,
   "metadata": {
    "collapsed": false
   },
   "outputs": [
    {
     "name": "stdout",
     "output_type": "stream",
     "text": [
      "0.454982788477\n"
     ]
    }
   ],
   "source": [
    "predictedSet = (lasso.predict(dfScTest.iloc[:, 0:8]))\n",
    "totalLoss = 0\n",
    "for index, list in enumerate(predictedSet):\n",
    "    loss = (list -  dfScTest['lpsa'].iloc[index]) ** 2 \n",
    "    totalLoss = totalLoss + loss    \n",
    "print (totalLoss/len(predictedSet))"
   ]
  },
  {
   "cell_type": "code",
   "execution_count": 20,
   "metadata": {
    "collapsed": false
   },
   "outputs": [
    {
     "name": "stdout",
     "output_type": "stream",
     "text": [
      "1.35885050811\n"
     ]
    }
   ],
   "source": [
    "predictedSet = (dTree.predict(dfScTest.iloc[:, 0:8]))\n",
    "totalLoss = 0\n",
    "for index, list in enumerate(predictedSet):\n",
    "    loss = (list -  dfScTest['lpsa'].iloc[index]) ** 2 \n",
    "    totalLoss = totalLoss + loss    \n",
    "print (totalLoss/len(predictedSet))"
   ]
  },
  {
   "cell_type": "code",
   "execution_count": null,
   "metadata": {
    "collapsed": true
   },
   "outputs": [],
   "source": []
  },
  {
   "cell_type": "code",
   "execution_count": null,
   "metadata": {
    "collapsed": true
   },
   "outputs": [],
   "source": []
  }
 ],
 "metadata": {
  "anaconda-cloud": {},
  "kernelspec": {
   "display_name": "Python [default]",
   "language": "python",
   "name": "python3"
  },
  "language_info": {
   "codemirror_mode": {
    "name": "ipython",
    "version": 3
   },
   "file_extension": ".py",
   "mimetype": "text/x-python",
   "name": "python",
   "nbconvert_exporter": "python",
   "pygments_lexer": "ipython3",
   "version": "3.5.2"
  }
 },
 "nbformat": 4,
 "nbformat_minor": 1
}
