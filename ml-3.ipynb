{
 "cells": [
  {
   "cell_type": "code",
   "execution_count": 21,
   "metadata": {
    "collapsed": true
   },
   "outputs": [],
   "source": [
    "%matplotlib inline\n",
    "import math\n",
    "import pandas as pd\n",
    "import numpy as np\n",
    "import matplotlib.pyplot as plt\n",
    "import sklearn.linear_model as sk"
   ]
  },
  {
   "cell_type": "code",
   "execution_count": 22,
   "metadata": {
    "collapsed": true
   },
   "outputs": [],
   "source": [
    "def scaleData(dataFrame,flag,tLabel):\n",
    "    df = dataFrame.copy()\n",
    "\n",
    "    for var in df.drop(tLabel,axis=1):\n",
    "        mean = df[var].mean()\n",
    "        std = df[var].std()\n",
    "        l1 = (df[var].abs()).sum()\n",
    "\n",
    "        if(flag == 1):\n",
    "            df[var] = (df[var]-mean)/std\n",
    "        else:\n",
    "            df[var] = df[var]/l1\n",
    "\n",
    "    return df"
   ]
  },
  {
   "cell_type": "code",
   "execution_count": 31,
   "metadata": {
    "collapsed": false
   },
   "outputs": [
    {
     "name": "stdout",
     "output_type": "stream",
     "text": [
      "      lcavol   lweight       age      lbph       svi       lcp   gleason  \\\n",
      "1  -1.523680 -1.797414 -1.965590 -0.995955 -0.533063 -0.836769 -1.031712   \n",
      "2  -1.857204 -0.643057 -0.899238 -0.995955 -0.533063 -0.836769 -1.031712   \n",
      "3  -1.468157 -1.961526  1.233468 -0.995955 -0.533063 -0.836769  0.378996   \n",
      "4  -2.025981 -0.720349 -0.899238 -0.995955 -0.533063 -0.836769 -1.031712   \n",
      "5  -0.452342 -0.406493 -0.366061 -0.995955 -0.533063 -0.836769 -1.031712   \n",
      "6  -1.901925 -0.833573 -1.965590 -0.995955 -0.533063 -0.836769 -1.031712   \n",
      "8  -0.499235 -0.181701 -0.899238  1.001211 -0.533063 -0.836769 -1.031712   \n",
      "11 -0.852131 -0.046097  0.033821 -0.995955 -0.533063 -0.836769 -1.031712   \n",
      "12 -2.141144 -0.057546 -0.232767  0.816796 -0.533063 -0.836769 -1.031712   \n",
      "13  0.241382 -1.265727 -0.232767 -0.995955 -0.533063 -0.273880  0.378996   \n",
      "14  0.131626 -1.317410  0.300409 -0.995955 -0.533063 -0.836769  0.378996   \n",
      "16  0.183220 -1.185595  0.167115 -0.995955 -0.533063 -0.836769 -1.031712   \n",
      "17 -1.391454 -0.231000  0.700291  0.801223 -0.533063 -0.273880  0.378996   \n",
      "18  0.784647  0.048786  0.167115 -0.995955 -0.533063  0.418185 -1.031712   \n",
      "19 -1.509436 -0.752080 -3.165237 -0.995955 -0.533063 -0.836769 -1.031712   \n",
      "20 -0.910332  0.418101  0.700291  1.084127 -0.533063 -0.836769 -1.031712   \n",
      "21 -0.133664 -0.433786 -0.765944 -0.995955 -0.533063 -0.836769 -1.031712   \n",
      "23 -1.495439 -0.525026 -0.765944 -0.594367 -0.533063 -0.836769 -1.031712   \n",
      "24  0.376808 -0.366205 -0.232767  0.250616 -0.533063  0.994376  0.378996   \n",
      "27 -0.644354  0.196272  0.033821 -0.995955 -0.533063 -0.417141  0.378996   \n",
      "29 -0.219875 -1.043130  0.300409  0.103647 -0.533063  0.187754  0.378996   \n",
      "30  0.882151 -0.525026  0.033821 -0.995955 -0.533063  1.309021 -1.031712   \n",
      "31 -0.827556  0.973690  0.033821  1.292291 -0.533063 -0.417141 -1.031712   \n",
      "33 -0.030685 -1.235318  0.833585  0.816796 -0.533063 -0.836769 -1.031712   \n",
      "35 -1.065147 -0.858651 -0.232767 -0.995955 -0.533063 -0.417141 -1.031712   \n",
      "37  0.088216  0.065093  1.100174 -0.444954 -0.533063  1.336749  1.789705   \n",
      "38 -0.688937 -2.625262 -0.099473 -0.995955 -0.533063 -0.836769  0.378996   \n",
      "39  1.084402  0.963130  0.433703  0.889742  1.847952  1.461222  0.378996   \n",
      "40 -0.415249 -1.286248 -1.165826  0.590750 -0.533063  0.036898  0.378996   \n",
      "41 -0.557638 -1.015761 -0.632650 -0.995955 -0.533063 -0.836769  3.200414   \n",
      "..       ...       ...       ...       ...       ...       ...       ...   \n",
      "58 -0.683860  0.290756 -2.098884  0.923488 -0.533063 -0.836769 -1.031712   \n",
      "59 -0.620613  1.158450  0.700291  0.250616 -0.533063 -0.836769  0.378996   \n",
      "60 -0.202991  0.472310 -0.499355  0.835776 -0.533063 -0.836769  0.378996   \n",
      "61 -0.688937  1.885004  1.100174  1.540569 -0.533063 -0.836769 -1.031712   \n",
      "63  1.176749 -0.212376  0.966879 -0.995955 -0.533063  1.265298  3.200414   \n",
      "67  0.570888  0.529496  0.433703  1.169641 -0.533063  1.096538  0.378996   \n",
      "68  0.712096  0.891327  0.966879  1.527773 -0.533063 -0.154619  0.378996   \n",
      "69 -1.416218  1.641708  0.566997 -0.995955 -0.533063 -0.836769 -1.031712   \n",
      "70 -0.096226  2.421891  0.966879  1.540569 -0.533063 -0.417141  0.378996   \n",
      "71  0.443097 -0.069059 -0.632650 -0.995955  1.847952  1.096538  0.378996   \n",
      "72 -0.123509 -0.598016  1.633350  1.146281 -0.533063 -0.836769  0.378996   \n",
      "75  1.356629  0.467845  0.566997 -0.995955  1.847952  1.516165  0.378996   \n",
      "76  1.470830 -0.760088  0.433703 -0.083854  1.847952  1.880849  0.378996   \n",
      "77  0.561250  1.694671  0.966879  1.401165 -0.533063  0.510431  0.378996   \n",
      "78  0.985172  1.528903  1.766644  1.540569 -0.533063 -0.836769  0.378996   \n",
      "79  1.074215 -0.092276  0.566997 -0.995955  1.847952  1.997666  0.378996   \n",
      "81  0.124243 -1.166032  0.167115  0.333532 -0.533063  0.312226  0.378996   \n",
      "82  0.965857 -0.320162 -1.032532  0.250616 -0.533063  1.814391  0.378996   \n",
      "83  1.045811  0.551082  1.633350 -0.409299  1.847952  0.552438  0.378996   \n",
      "85  0.200271  0.175827 -0.632650  1.109671 -0.533063  0.731854  0.378996   \n",
      "86  1.600976 -0.224774 -0.099473 -0.995955  1.847952  1.814391  0.378996   \n",
      "87  0.571952  0.221551 -0.899238  1.070988 -0.533063 -0.836769 -1.031712   \n",
      "88  0.336526 -0.539424 -0.366061 -0.995955  1.847952  0.367170  0.378996   \n",
      "89  1.202409  2.291109  0.033821 -0.995955  1.847952  1.911893  0.378996   \n",
      "90  0.200271  0.144780  1.500056  0.590750  1.847952  0.731854  0.378996   \n",
      "91  1.555621  0.998130  0.433703 -0.995955 -0.533063 -0.836769 -1.031712   \n",
      "92  0.981346  0.107969 -0.499355  0.872223  1.847952 -0.836769  0.378996   \n",
      "93  1.220657  0.525153  0.433703 -0.995955  1.847952  1.096538  0.378996   \n",
      "94  2.017972  0.568193 -2.765355 -0.995955  1.847952  1.701433  0.378996   \n",
      "96  1.262743  0.310118  0.433703  1.015748  1.847952  1.265298  0.378996   \n",
      "\n",
      "       pgg45      lpsa  \n",
      "1  -0.896487 -0.430783  \n",
      "2  -0.896487 -0.162519  \n",
      "3  -0.213934 -0.162519  \n",
      "4  -0.896487 -0.162519  \n",
      "5  -0.896487  0.371564  \n",
      "6  -0.896487  0.765468  \n",
      "8  -0.896487  0.854415  \n",
      "11 -0.896487  1.266948  \n",
      "12 -0.896487  1.266948  \n",
      "13  0.127342  1.266948  \n",
      "14 -0.725849  1.348073  \n",
      "16 -0.896487  1.446919  \n",
      "17  0.127342  1.470176  \n",
      "18 -0.896487  1.492904  \n",
      "19 -0.896487  1.558145  \n",
      "20 -0.896487  1.599388  \n",
      "21 -0.896487  1.638997  \n",
      "23 -0.896487  1.695616  \n",
      "24  1.151171  1.713798  \n",
      "27  1.492447  1.800058  \n",
      "29  1.833724  1.848455  \n",
      "30 -0.896487  1.894617  \n",
      "31 -0.896487  1.924249  \n",
      "33 -0.896487  2.008214  \n",
      "35 -0.896487  2.047693  \n",
      "37 -0.384573  2.157559  \n",
      "38 -0.384573  2.191654  \n",
      "39  0.297980  2.213754  \n",
      "40 -0.725849  2.277267  \n",
      "41  1.833724  2.297573  \n",
      "..       ...       ...  \n",
      "58 -0.896487  2.794228  \n",
      "59 -0.213934  2.806386  \n",
      "60  0.468618  2.812410  \n",
      "61 -0.896487  2.841998  \n",
      "63  2.345638  2.853592  \n",
      "67  1.492447  2.920470  \n",
      "68 -0.555211  2.962692  \n",
      "69 -0.896487  2.962692  \n",
      "70 -0.725849  2.972975  \n",
      "71  1.151171  3.013081  \n",
      "72 -0.043296  3.037354  \n",
      "75 -0.213934  3.275256  \n",
      "76  0.809895  3.337547  \n",
      "77  1.151171  3.392829  \n",
      "78 -0.555211  3.435599  \n",
      "79  1.492447  3.457893  \n",
      "81  0.468618  3.516013  \n",
      "82  1.151171  3.530763  \n",
      "83  0.127342  3.565298  \n",
      "85  0.127342  3.587677  \n",
      "86  1.151171  3.630986  \n",
      "87 -0.896487  3.680091  \n",
      "88  0.127342  3.712352  \n",
      "89  1.151171  3.984344  \n",
      "90  1.663086  3.993603  \n",
      "91 -0.896487  4.029806  \n",
      "92 -0.384573  4.129551  \n",
      "93  1.151171  4.385147  \n",
      "94  0.468618  4.684443  \n",
      "96  1.833724  5.477509  \n",
      "\n",
      "[67 rows x 9 columns]\n"
     ]
    },
    {
     "data": {
      "image/png": "[encoded data removed]",
      "text/plain": [
       "<matplotlib.figure.Figure at 0x7fee13c9a5c0>"
      ]
     },
     "metadata": {},
     "output_type": "display_data"
    }
   ],
   "source": [
    "df = pd.read_csv('prostate.data', header = 0, delim_whitespace=True)\n",
    "#print (df)\n",
    "dfTrain = df[df.train == 'T']\n",
    "dfTest = df[df.train == 'F']\n",
    "dfTrain = dfTrain.drop('train', 1)\n",
    "dfTest = dfTest.drop('train', 1)\n",
    "\n",
    "dfScTrain = scaleData(dfTrain, 1, 'lpsa')\n",
    "dfScTest = scaleData(dfTest, 1, 'lpsa')\n",
    "#dfScTrain = dfTrain.copy()\n",
    "#dfScTest = dfTest.copy()\n",
    "\n",
    "print (dfScTrain)\n"
   ]
  },
  {
   "cell_type": "code",
   "execution_count": 32,
   "metadata": {
    "collapsed": false
   },
   "outputs": [
    {
     "name": "stdout",
     "output_type": "stream",
     "text": [
      "3.51 [[ 0.63591522  0.28854502 -0.11881213  0.20473644  0.291185   -0.19058621\n",
      "   0.00588271  0.22138017]]\n"
     ]
    }
   ],
   "source": [
    "ridge = sk.RidgeCV(alphas = np.arange(-20,20,0.01))\n",
    "ridge.fit(dfScTrain.iloc[:, 0:8], dfScTrain.iloc[:, 8:9])\n",
    "print (ridge.alpha_, ridge.coef_)"
   ]
  },
  {
   "cell_type": "code",
   "execution_count": 40,
   "metadata": {
    "collapsed": false
   },
   "outputs": [
    {
     "name": "stdout",
     "output_type": "stream",
     "text": [
      "0.1 [ 0.57487434  0.2300614  -0.          0.10508914  0.17173396  0.          0.\n",
      "  0.0653523 ]\n",
      "LassoCV(alphas=array([-20.  , -19.95, ...,  19.9 ,  19.95]), copy_X=True,\n",
      "    cv=None, eps=0.001, fit_intercept=True, max_iter=1000, n_alphas=100,\n",
      "    n_jobs=1, normalize=False, positive=False, precompute='auto',\n",
      "    random_state=None, selection='cyclic', tol=0.0001, verbose=False)\n"
     ]
    },
    {
     "name": "stderr",
     "output_type": "stream",
     "text": [
      "/opt/anaconda/lib/python3.5/site-packages/sklearn/linear_model/coordinate_descent.py:466: ConvergenceWarning: Objective did not converge. You might want to increase the number of iterations\n",
      "  ConvergenceWarning)\n"
     ]
    }
   ],
   "source": [
    "lasso = sk.LassoCV(alphas=np.arange(-20,20,0.05))\n",
    "fit = lasso.fit(dfScTrain.iloc[:, 0:8], dfScTrain.iloc[:, 8:9].values.ravel())\n",
    "print (lasso.alpha_, lasso.coef_)\n"
   ]
  },
  {
   "cell_type": "code",
   "execution_count": 34,
   "metadata": {
    "collapsed": false
   },
   "outputs": [
    {
     "name": "stdout",
     "output_type": "stream",
     "text": [
      "[[ 0.71640701  0.2926424  -0.14254963  0.2120076   0.30961953 -0.28900562\n",
      "  -0.02091352  0.27734595]]\n"
     ]
    }
   ],
   "source": [
    "linear = sk.LinearRegression()\n",
    "linear.fit(dfScTrain.iloc[:, 0:8], dfScTrain.iloc[:, 8:9])\n",
    "print (linear.coef_)"
   ]
  },
  {
   "cell_type": "code",
   "execution_count": 35,
   "metadata": {
    "collapsed": false
   },
   "outputs": [
    {
     "name": "stdout",
     "output_type": "stream",
     "text": [
      "0.524107605502\n"
     ]
    }
   ],
   "source": [
    "#PREDICTIN DOOM\n",
    "predictedSet = (ridge.predict(dfScTest.iloc[:, 0:8]))\n",
    "totalLoss = 0\n",
    "for index, list in enumerate(predictedSet):\n",
    "    loss = (list[0] -  dfScTest['lpsa'].iloc[index]) ** 2 \n",
    "    totalLoss = totalLoss + loss    \n",
    "print (totalLoss/len(predictedSet))"
   ]
  },
  {
   "cell_type": "code",
   "execution_count": 36,
   "metadata": {
    "collapsed": false
   },
   "outputs": [
    {
     "name": "stdout",
     "output_type": "stream",
     "text": [
      "0.549194139132\n"
     ]
    }
   ],
   "source": [
    "predictedSet = (linear.predict(dfScTest.iloc[:, 0:8]))\n",
    "totalLoss = 0\n",
    "for index, list in enumerate(predictedSet):\n",
    "    loss = (list[0] -  dfScTest['lpsa'].iloc[index]) ** 2 \n",
    "    totalLoss = totalLoss + loss    \n",
    "print (totalLoss/len(predictedSet))"
   ]
  },
  {
   "cell_type": "code",
   "execution_count": 41,
   "metadata": {
    "collapsed": false
   },
   "outputs": [
    {
     "name": "stdout",
     "output_type": "stream",
     "text": [
      "0.454982788477\n"
     ]
    }
   ],
   "source": [
    "predictedSet = (lasso.predict(dfScTest.iloc[:, 0:8]))\n",
    "totalLoss = 0\n",
    "for index, list in enumerate(predictedSet):\n",
    "    loss = (list -  dfScTest['lpsa'].iloc[index]) ** 2 \n",
    "    totalLoss = totalLoss + loss    \n",
    "print (totalLoss/len(predictedSet))"
   ]
  },
  {
   "cell_type": "code",
   "execution_count": 44,
   "metadata": {
    "collapsed": false
   },
   "outputs": [
    {
     "name": "stdout",
     "output_type": "stream",
     "text": [
      "      lcavol   lweight       age      lbph       svi       lcp   gleason  \\\n",
      "7  -0.669858 -0.537547  0.298149  0.311748 -0.491596 -0.908984 -1.051077   \n",
      "9  -2.130049 -0.318246 -2.115437 -1.074047 -0.491596 -0.908984 -1.051077   \n",
      "10 -1.165710 -1.298473  0.156173 -1.074047 -0.491596 -0.908984 -1.051077   \n",
      "15 -0.217622 -0.642225 -0.695681 -1.074047 -0.491596 -0.232933  0.262769   \n",
      "22  0.605487 -0.446076 -0.269754  0.906906 -0.491596  1.025657  0.262769   \n",
      "25 -1.009322  0.106761  1.008027  0.993194 -0.491596 -0.908984 -1.051077   \n",
      "26  0.014810 -1.697187  0.866051  0.093590 -0.491596 -0.908984 -1.051077   \n",
      "28 -1.767289  0.766678  0.724076  1.143487 -0.491596 -0.908984  0.262769   \n",
      "32 -1.205089  0.562165  0.440125  1.066144 -0.491596 -0.908984 -1.051077   \n",
      "34 -1.371368 -1.221634 -1.121608 -1.074047 -0.491596 -0.908984 -1.051077   \n",
      "36 -0.118878  1.610341  0.298149  1.389203 -0.491596 -0.908984  0.262769   \n",
      "42  0.010260  0.157307  0.866051 -1.074047 -0.491596 -0.908984  0.262769   \n",
      "44  0.327973  0.869464 -0.127778 -1.074047 -0.491596  0.645614  0.262769   \n",
      "48 -0.258928  1.328783  0.866051  1.072410 -0.491596 -0.232933  0.262769   \n",
      "49  0.303045 -0.456116 -2.683340 -1.074047 -0.491596 -0.908984 -1.051077   \n",
      "50 -0.203288 -0.223156  1.150003  0.836942 -0.491596 -0.493109 -1.051077   \n",
      "53 -0.886269 -0.005460  0.298149  0.919467 -0.491596  0.106378  0.262769   \n",
      "54  0.670892  1.615735  0.866051  1.108860 -0.491596  1.095594  0.262769   \n",
      "55  1.661158 -0.396328 -0.411729 -1.074047 -0.491596 -0.908984  0.262769   \n",
      "57 -0.440854 -2.559593 -2.115437 -1.074047 -0.491596  0.426170  0.262769   \n",
      "62  0.545851  0.280401  0.156173  1.007042  1.966384  1.422913  0.262769   \n",
      "64  0.581821  0.936267  0.582100  1.276260  1.966384  1.564893  0.262769   \n",
      "65  0.618927 -0.040766  0.298149 -1.074047 -0.491596 -0.908984 -1.051077   \n",
      "66  0.026092  0.667786 -0.127778  0.800966 -0.491596 -0.232933  0.262769   \n",
      "73 -0.208996  0.631743  1.008027 -1.074047  1.966384  0.229738  0.262769   \n",
      "74  0.392995 -1.324487 -0.269754  0.189243  1.966384  0.905789  2.890461   \n",
      "80  1.300232  0.624488  0.156173 -1.074047 -0.491596  0.334750  0.262769   \n",
      "84  1.201983  0.674948  0.440125  0.657910 -0.491596  1.309466  2.890461   \n",
      "95  1.423715 -0.794540 -1.405559 -1.074047  1.966384  1.815103  0.262769   \n",
      "97  1.968280  1.128970  0.866051  0.189243  1.966384  2.126636  0.262769   \n",
      "\n",
      "       pgg45      lpsa  \n",
      "7  -0.789408  0.765468  \n",
      "9  -0.789408  1.047319  \n",
      "10 -0.789408  1.047319  \n",
      "15 -0.593687  1.398717  \n",
      "22 -0.006524  1.658228  \n",
      "25 -0.789408  1.731656  \n",
      "26 -0.789408  1.766442  \n",
      "28 -0.006524  1.816452  \n",
      "32 -0.789408  2.008214  \n",
      "34 -0.789408  2.021548  \n",
      "36 -0.593687  2.085672  \n",
      "42 -0.397966  2.307573  \n",
      "44 -0.554543  2.374906  \n",
      "48  0.776360  2.568788  \n",
      "49 -0.789408  2.591516  \n",
      "50 -0.789408  2.591516  \n",
      "53  1.950687  2.684440  \n",
      "54  0.776360  2.691243  \n",
      "55 -0.593687  2.704711  \n",
      "57 -0.632832  2.788093  \n",
      "62  0.776360  2.853592  \n",
      "64  1.559245  2.882004  \n",
      "65 -0.789408  2.882004  \n",
      "66 -0.006524  2.887590  \n",
      "73 -0.006524  3.056357  \n",
      "74  2.733572  3.075006  \n",
      "80  1.167803  3.513037  \n",
      "84  1.950687  3.570940  \n",
      "95 -0.397966  5.143124  \n",
      "97 -0.006524  5.582932  \n",
      "[ 2.23608061]\n"
     ]
    }
   ],
   "source": []
  },
  {
   "cell_type": "code",
   "execution_count": null,
   "metadata": {
    "collapsed": true
   },
   "outputs": [],
   "source": []
  },
  {
   "cell_type": "code",
   "execution_count": null,
   "metadata": {
    "collapsed": true
   },
   "outputs": [],
   "source": []
  }
 ],
 "metadata": {
  "anaconda-cloud": {},
  "kernelspec": {
   "display_name": "Python [default]",
   "language": "python",
   "name": "python3"
  },
  "language_info": {
   "codemirror_mode": {
    "name": "ipython",
    "version": 3
   },
   "file_extension": ".py",
   "mimetype": "text/x-python",
   "name": "python",
   "nbconvert_exporter": "python",
   "pygments_lexer": "ipython3",
   "version": "3.5.2"
  }
 },
 "nbformat": 4,
 "nbformat_minor": 1
}
