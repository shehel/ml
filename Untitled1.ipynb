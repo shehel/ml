{
 "cells": [
  {
   "cell_type": "code",
   "execution_count": 2,
   "metadata": {
    "collapsed": false
   },
   "outputs": [],
   "source": [
    "import math\n",
    "import pandas as pd\n",
    "import numpy as np"
   ]
  },
  {
   "cell_type": "code",
   "execution_count": 3,
   "metadata": {
    "collapsed": false
   },
   "outputs": [
    {
     "name": "stdout",
     "output_type": "stream",
     "text": [
      "[[ 1.   1.  -1.  -1. ]\n",
      " [ 1.   2.   1.   1. ]\n",
      " [ 1.   1.5  0.5 -1. ]\n",
      " [ 1.   2.  -1.  -1. ]\n",
      " [ 1.   1.   2.   2. ]]\n"
     ]
    }
   ],
   "source": [
    "data = np.array([\n",
    "                [1, 1,-1,-1],\n",
    "                 [1, 2,1,1],\n",
    "                [1, 1.5,0.5,-1],\n",
    "                [1, 2,-1,-1],\n",
    "                [1, 1,2,2]])\n",
    "print (data)"
   ]
  },
  {
   "cell_type": "code",
   "execution_count": 39,
   "metadata": {
    "collapsed": false
   },
   "outputs": [],
   "source": [
    "w = np.random.random((3,1))"
   ]
  },
  {
   "cell_type": "code",
   "execution_count": 40,
   "metadata": {
    "collapsed": true
   },
   "outputs": [],
   "source": [
    "lr = 0.1"
   ]
  },
  {
   "cell_type": "code",
   "execution_count": null,
   "metadata": {
    "collapsed": false
   },
   "outputs": [],
   "source": [
    "dicty = {}\n",
    "dicty[0] = 1\n",
    "index = 0\n",
    "while all(x==0 for x in dicty.values()) == False:\n",
    "    print (dicty)\n",
    "    for row in data:\n",
    "        t = row[3]\n",
    "        row = np.delete(row,[3], axis=0)\n",
    "        dot = np.dot(row,w)\n",
    "        #print (row, w, dot)\n",
    "        error = t - math.copysign(1, dot)\n",
    "        dicty[index] = error\n",
    "        #learning rate times error\n",
    "        lrE = lr * error\n",
    "        #print (\"Transpose \", row.transpose())\n",
    "        #print (\"Average \", row)\n",
    "        x = lrE*row\n",
    "        w += lrE*row.reshape(3,1)\n",
    "        index = index+1\n",
    "print (w)"
   ]
  },
  {
   "cell_type": "code",
   "execution_count": null,
   "metadata": {
    "collapsed": true
   },
   "outputs": [],
   "source": []
  }
 ],
 "metadata": {
  "anaconda-cloud": {},
  "kernelspec": {
   "display_name": "Python [conda root]",
   "language": "python",
   "name": "conda-root-py"
  },
  "language_info": {
   "codemirror_mode": {
    "name": "ipython",
    "version": 3
   },
   "file_extension": ".py",
   "mimetype": "text/x-python",
   "name": "python",
   "nbconvert_exporter": "python",
   "pygments_lexer": "ipython3",
   "version": "3.5.2"
  }
 },
 "nbformat": 4,
 "nbformat_minor": 1
}
