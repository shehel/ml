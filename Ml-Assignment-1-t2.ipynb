{
 "cells": [
  {
   "cell_type": "code",
   "execution_count": 127,
   "metadata": {
    "collapsed": true
   },
   "outputs": [],
   "source": [
    "%matplotlib inline\n",
    "import math\n",
    "import pandas as pd\n",
    "import numpy as np\n",
    "import matplotlib.pyplot as plt\n",
    "import sklearn.linear_model as sk\n",
    "from sklearn import tree\n",
    "from sklearn.cross_validation import KFold\n",
    "from sklearn.neighbors import KNeighborsClassifier\n",
    "from sklearn import metrics"
   ]
  },
  {
   "cell_type": "code",
   "execution_count": 128,
   "metadata": {
    "collapsed": true
   },
   "outputs": [],
   "source": [
    "def scaleData(dataFrame,flag):\n",
    "    df = dataFrame.copy()\n",
    "\n",
    "    for var in df:\n",
    "        mean = df[var].mean()\n",
    "        std = df[var].std()\n",
    "        l1 = (df[var].abs()).sum()\n",
    "\n",
    "        if(flag == 1):\n",
    "            df[var] = (df[var]-mean)/std\n",
    "        else:\n",
    "            df[var] = df[var]/l1\n",
    "\n",
    "    return df"
   ]
  },
  {
   "cell_type": "code",
   "execution_count": 129,
   "metadata": {
    "collapsed": false
   },
   "outputs": [],
   "source": [
    "dfProbeA = pd.read_csv('./UKSA/probeA.csv', header = 0)\n",
    "dfProbeB = pd.read_csv('./UKSA/probeB.csv', header = 0)\n",
    "dfClassA = pd.read_csv('./UKSA/classA.csv', header = 0)\n"
   ]
  },
  {
   "cell_type": "code",
   "execution_count": 130,
   "metadata": {
    "collapsed": false
   },
   "outputs": [],
   "source": [
    "dfTrain = dfProbeA[['c1','c2','c3','m1','m2','m3','n1','n2','n3','p1','p2','p3']]\n",
    "dfTrain['class'] = dfClassA\n",
    "dfTarget = dfProbeA[['TNA']]\n",
    "\n",
    "\n"
   ]
  },
  {
   "cell_type": "code",
   "execution_count": 131,
   "metadata": {
    "collapsed": false
   },
   "outputs": [],
   "source": [
    "from sklearn.cross_validation import train_test_split\n",
    "\n",
    "dfSc = scaleData(dfTrain, 1)\n",
    "X_train, X_test, y_train, y_test = train_test_split(dfSc, dfTarget, test_size = .05, random_state=0)\n"
   ]
  },
  {
   "cell_type": "code",
   "execution_count": 132,
   "metadata": {
    "collapsed": false
   },
   "outputs": [
    {
     "name": "stdout",
     "output_type": "stream",
     "text": [
      "19.99 [[ 0.0021442   0.03284897  0.65306358  0.02707798 -0.0325694  -0.00911435\n",
      "  -0.03367469  0.00695063 -0.01239864  0.01907604 -0.13294861  0.00314168\n",
      "   0.40994637]]\n"
     ]
    }
   ],
   "source": [
    "ridge = sk.RidgeCV(alphas = np.arange(-20,20,0.01))\n",
    "ridge.fit(X_train, y_train)\n",
    "print (ridge.alpha_, ridge.coef_)"
   ]
  },
  {
   "cell_type": "code",
   "execution_count": 133,
   "metadata": {
    "collapsed": false
   },
   "outputs": [
    {
     "name": "stderr",
     "output_type": "stream",
     "text": [
      "/opt/anaconda/lib/python3.5/site-packages/sklearn/linear_model/coordinate_descent.py:1051: DataConversionWarning: A column-vector y was passed when a 1d array was expected. Please change the shape of y to (n_samples, ), for example using ravel().\n",
      "  y = column_or_1d(y, warn=True)\n",
      "/opt/anaconda/lib/python3.5/site-packages/sklearn/linear_model/coordinate_descent.py:466: ConvergenceWarning: Objective did not converge. You might want to increase the number of iterations\n",
      "  ConvergenceWarning)\n"
     ]
    },
    {
     "name": "stdout",
     "output_type": "stream",
     "text": [
      "0.0500000000003 [ 0.          0.          0.65538867  0.         -0.         -0.         -0.\n",
      "  0.         -0.          0.         -0.06854376 -0.          0.34676559]\n"
     ]
    }
   ],
   "source": [
    "lasso = sk.LassoCV(alphas=np.arange(-20,20,0.05))\n",
    "fit = lasso.fit(X_train, y_train)\n",
    "print (lasso.alpha_, lasso.coef_)\n"
   ]
  },
  {
   "cell_type": "code",
   "execution_count": 134,
   "metadata": {
    "collapsed": true
   },
   "outputs": [],
   "source": [
    "#predicting"
   ]
  },
  {
   "cell_type": "code",
   "execution_count": 135,
   "metadata": {
    "collapsed": false
   },
   "outputs": [
    {
     "name": "stdout",
     "output_type": "stream",
     "text": [
      "[ 0.30824418]\n"
     ]
    }
   ],
   "source": [
    "#print (y_test)\n",
    "predictedSet = (ridge.predict(X_test))\n",
    "totalLoss = 0\n",
    "\n",
    "#print (y_test, predictedSet)\n",
    "#print(y_test['TNA'].iloc[299])\n",
    "#print (predictedSet[299])\n",
    "for index, list in enumerate(predictedSet):\n",
    "    #print (predictedSet[x])\n",
    "    #print (y_test['TNA'].iloc[index], '---', list[0])\n",
    "    loss = (list -  y_test['TNA'].iloc[index]) ** 2 \n",
    "    totalLoss = totalLoss + loss\n",
    "print (totalLoss/len(predictedSet))"
   ]
  },
  {
   "cell_type": "code",
   "execution_count": 136,
   "metadata": {
    "collapsed": false
   },
   "outputs": [
    {
     "name": "stdout",
     "output_type": "stream",
     "text": [
      "0.327981188322\n"
     ]
    }
   ],
   "source": [
    "predictedSet = (lasso.predict(X_test))\n",
    "totalLoss = 0\n",
    "for index, list in enumerate(predictedSet):\n",
    "    loss = (list -  y_test['TNA'].iloc[index]) ** 2 \n",
    "    totalLoss = totalLoss + loss    \n",
    "print (totalLoss/len(predictedSet))"
   ]
  },
  {
   "cell_type": "code",
   "execution_count": null,
   "metadata": {
    "collapsed": true
   },
   "outputs": [],
   "source": []
  }
 ],
 "metadata": {
  "anaconda-cloud": {},
  "kernelspec": {
   "display_name": "Python [conda root]",
   "language": "python",
   "name": "conda-root-py"
  },
  "language_info": {
   "codemirror_mode": {
    "name": "ipython",
    "version": 3
   },
   "file_extension": ".py",
   "mimetype": "text/x-python",
   "name": "python",
   "nbconvert_exporter": "python",
   "pygments_lexer": "ipython3",
   "version": "3.5.2"
  }
 },
 "nbformat": 4,
 "nbformat_minor": 1
}
