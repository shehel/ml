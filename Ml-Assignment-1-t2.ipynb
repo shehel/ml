{
 "cells": [
  {
   "cell_type": "code",
   "execution_count": 5,
   "metadata": {
    "collapsed": true
   },
   "outputs": [],
   "source": [
    "%matplotlib inline\n",
    "import math\n",
    "import pandas as pd\n",
    "import numpy as np\n",
    "import matplotlib.pyplot as plt\n",
    "import sklearn.linear_model as sk\n",
    "from sklearn import tree\n",
    "from sklearn.cross_validation import KFold\n",
    "from sklearn.neighbors import KNeighborsClassifier\n",
    "from sklearn import metrics\n",
    "from sklearn.cross_validation import cross_val_score\n",
    "from sklearn.metrics import r2_score"
   ]
  },
  {
   "cell_type": "code",
   "execution_count": 6,
   "metadata": {
    "collapsed": true
   },
   "outputs": [],
   "source": [
    "def scaleData(dataFrame,flag):\n",
    "    df = dataFrame.copy()\n",
    "\n",
    "    for var in df:\n",
    "        mean = df[var].mean()\n",
    "        std = df[var].std()\n",
    "        l1 = (df[var].abs()).sum()\n",
    "\n",
    "        if(flag == 1):\n",
    "            df[var] = (df[var]-mean)/std\n",
    "        else:\n",
    "            df[var] = df[var]/l1\n",
    "\n",
    "    return df"
   ]
  },
  {
   "cell_type": "code",
   "execution_count": 8,
   "metadata": {
    "collapsed": false
   },
   "outputs": [],
   "source": [
    "dfProbeA = pd.read_csv('./UKSA/probeA.csv', header = 0)\n",
    "dfScProbeA = scaleData(dfProbeA, 1)\n",
    "\n",
    "dfProbeB = pd.read_csv('./UKSA/probeB.csv', header = 0)\n",
    "dfClassA = pd.read_csv('./UKSA/classA.csv', header = 0)\n"
   ]
  },
  {
   "cell_type": "code",
   "execution_count": 20,
   "metadata": {
    "collapsed": false
   },
   "outputs": [],
   "source": [
    "featureCols = ['c1','c2','c3','m1','m2','m3','n1','n2','n3','p1','p2','p3']\n",
    "dfTrain = dfProbeA[featureCols]\n",
    "dfTrain['class'] = dfClassA\n",
    "dfTarget = dfProbeA[['TNA']]\n",
    "\n",
    "\n",
    "dfSc = scaleData(dfTrain, 1)"
   ]
  },
  {
   "cell_type": "code",
   "execution_count": 121,
   "metadata": {
    "collapsed": false
   },
   "outputs": [
    {
     "name": "stdout",
     "output_type": "stream",
     "text": [
      "1 0.375579522784\n",
      "2 0.512210370299\n",
      "3 0.59852611188\n",
      "4 0.693265450943\n",
      "5 0.717969648543\n",
      "6 0.721628722264\n",
      "7 0.71246938116\n",
      "8 0.689534634386\n",
      "9 0.665377530403\n",
      "10 0.647328839886\n",
      "11 0.633945245381\n",
      "12 0.620560297813\n",
      "13 0.613598576356\n",
      "14 0.609549485891\n",
      "15 0.610071522505\n",
      "16 0.613503042353\n",
      "17 0.610919241168\n",
      "18 0.607209300806\n",
      "19 0.608395032734\n",
      "20 0.608792532092\n",
      "21 0.615859109442\n",
      "22 0.594731383597\n",
      "23 0.608982950187\n",
      "24 0.607594110532\n",
      "25 0.612308541928\n",
      "26 0.609082935168\n",
      "27 0.624208794954\n",
      "28 0.610251126933\n",
      "29 0.614226123923\n",
      "30 0.601177886635\n",
      "31 0.605009330396\n",
      "32 0.605687583569\n",
      "33 0.611952846339\n",
      "34 0.614700868264\n",
      "35 0.604510060212\n",
      "36 0.602875223947\n",
      "37 0.604612531571\n",
      "38 0.608046023069\n",
      "39 0.61112333861\n",
      "40 0.620281842315\n",
      "41 0.601013191444\n",
      "42 0.605083269352\n",
      "43 0.616979609716\n",
      "44 0.607879545507\n",
      "45 0.603030218653\n",
      "46 0.605741834375\n",
      "47 0.602639367681\n",
      "48 0.60171911078\n",
      "49 0.619438834143\n",
      "50 0.608515859544\n",
      "51 0.597012684539\n",
      "52 0.617757402422\n",
      "53 0.610372788429\n",
      "54 0.60431294349\n",
      "55 0.616356739669\n",
      "56 0.610472016726\n",
      "57 0.61898237186\n",
      "58 0.600771715543\n",
      "59 0.617112146733\n",
      "60 0.594823465621\n",
      "61 0.605437912249\n",
      "62 0.602756002707\n",
      "63 0.616177011285\n",
      "64 0.606063497124\n",
      "65 0.613553165461\n",
      "66 0.600963680242\n",
      "67 0.602378189685\n",
      "68 0.608020205857\n",
      "69 0.597749994179\n",
      "70 0.612701930028\n",
      "71 0.62309851742\n",
      "72 0.608503404221\n",
      "73 0.601860870068\n",
      "74 0.616024009495\n",
      "75 0.613193677159\n",
      "76 0.609388802256\n",
      "77 0.60041408097\n",
      "78 0.61286744154\n",
      "79 0.620653999108\n",
      "80 0.606321267699\n",
      "81 0.606555090377\n",
      "82 0.61181901196\n",
      "83 0.605811047649\n",
      "84 0.594222269438\n",
      "85 0.603686621026\n",
      "86 0.612553648945\n",
      "87 0.615913197414\n",
      "88 0.609266685078\n",
      "89 0.605263579502\n",
      "90 0.610525715279\n",
      "91 0.611803671194\n",
      "92 0.611622849513\n",
      "93 0.603954706674\n",
      "94 0.609224517742\n",
      "95 0.606387800976\n",
      "96 0.608166860551\n",
      "97 0.612915567434\n",
      "98 0.609640493664\n",
      "99 0.606348528607\n",
      "0.375579522784\n"
     ]
    }
   ],
   "source": [
    "k_range = range(1, 100)\n",
    "k_scores = []\n",
    "for k in k_range:\n",
    "    dTree = tree.DecisionTreeRegressor(max_depth = k)\n",
    "    scores = cross_val_score(dTree, dfSc, dfTarget, cv=10, scoring='r2')\n",
    "    print (k, scores.mean())\n",
    "    k_scores.append(scores.mean())\n",
    "print(np.amin(k_scores))"
   ]
  },
  {
   "cell_type": "code",
   "execution_count": 21,
   "metadata": {
    "collapsed": false
   },
   "outputs": [],
   "source": [
    "from sklearn.cross_validation import train_test_split\n",
    "\n",
    "X_train, X_test, y_train, y_test = train_test_split(dfSc, dfTarget, test_size = .05, random_state=0)\n"
   ]
  },
  {
   "cell_type": "code",
   "execution_count": 11,
   "metadata": {
    "collapsed": false
   },
   "outputs": [
    {
     "ename": "NameError",
     "evalue": "name 'dfSc' is not defined",
     "output_type": "error",
     "traceback": [
      "\u001b[0;31m---------------------------------------------------------------------------\u001b[0m",
      "\u001b[0;31mNameError\u001b[0m                                 Traceback (most recent call last)",
      "\u001b[0;32m<ipython-input-11-e4e11e92dac6>\u001b[0m in \u001b[0;36m<module>\u001b[0;34m()\u001b[0m\n\u001b[1;32m      1\u001b[0m \u001b[0mridge\u001b[0m \u001b[0;34m=\u001b[0m \u001b[0msk\u001b[0m\u001b[0;34m.\u001b[0m\u001b[0mRidgeCV\u001b[0m\u001b[0;34m(\u001b[0m\u001b[0malphas\u001b[0m \u001b[0;34m=\u001b[0m \u001b[0mnp\u001b[0m\u001b[0;34m.\u001b[0m\u001b[0marange\u001b[0m\u001b[0;34m(\u001b[0m\u001b[0;34m-\u001b[0m\u001b[0;36m20\u001b[0m\u001b[0;34m,\u001b[0m\u001b[0;36m20\u001b[0m\u001b[0;34m,\u001b[0m\u001b[0;36m0.01\u001b[0m\u001b[0;34m)\u001b[0m\u001b[0;34m)\u001b[0m\u001b[0;34m\u001b[0m\u001b[0m\n\u001b[0;32m----> 2\u001b[0;31m \u001b[0mscores\u001b[0m \u001b[0;34m=\u001b[0m \u001b[0mcross_val_score\u001b[0m\u001b[0;34m(\u001b[0m\u001b[0mridge\u001b[0m\u001b[0;34m,\u001b[0m \u001b[0mdfSc\u001b[0m\u001b[0;34m,\u001b[0m \u001b[0mdfTarget\u001b[0m\u001b[0;34m,\u001b[0m \u001b[0mcv\u001b[0m\u001b[0;34m=\u001b[0m\u001b[0;36m10\u001b[0m\u001b[0;34m,\u001b[0m \u001b[0mscoring\u001b[0m\u001b[0;34m=\u001b[0m\u001b[0;34m'r2'\u001b[0m\u001b[0;34m)\u001b[0m\u001b[0;34m\u001b[0m\u001b[0m\n\u001b[0m\u001b[1;32m      3\u001b[0m \u001b[0mprint\u001b[0m \u001b[0;34m(\u001b[0m\u001b[0mscores\u001b[0m\u001b[0;34m.\u001b[0m\u001b[0mmean\u001b[0m\u001b[0;34m(\u001b[0m\u001b[0;34m)\u001b[0m\u001b[0;34m)\u001b[0m\u001b[0;34m\u001b[0m\u001b[0m\n",
      "\u001b[0;31mNameError\u001b[0m: name 'dfSc' is not defined"
     ]
    }
   ],
   "source": [
    "ridge = sk.RidgeCV(alphas = np.arange(-20,20,0.01))\n",
    "scores = cross_val_score(ridge, dfSc, dfTarget, cv=10, scoring='r2')\n",
    "print (scores.mean())"
   ]
  },
  {
   "cell_type": "code",
   "execution_count": 28,
   "metadata": {
    "collapsed": false
   },
   "outputs": [
    {
     "name": "stderr",
     "output_type": "stream",
     "text": [
      "/opt/anaconda/lib/python3.5/site-packages/sklearn/linear_model/coordinate_descent.py:1051: DataConversionWarning: A column-vector y was passed when a 1d array was expected. Please change the shape of y to (n_samples, ), for example using ravel().\n",
      "  y = column_or_1d(y, warn=True)\n",
      "/opt/anaconda/lib/python3.5/site-packages/sklearn/linear_model/coordinate_descent.py:466: ConvergenceWarning: Objective did not converge. You might want to increase the number of iterations\n",
      "  ConvergenceWarning)\n"
     ]
    },
    {
     "name": "stdout",
     "output_type": "stream",
     "text": [
      "0.00999999999602 [ 0.27671501 -0.         -0.          0.01461778 -0.          0.00134335\n",
      "  0.00384268  0.06014525 -0.00087182  0.02361884 -0.          0.12238498\n",
      "  0.        ]\n"
     ]
    }
   ],
   "source": [
    "lasso = sk.LassoCV(alphas=np.arange(-20,20,0.05))\n",
    "print (dfScProbeA)\n",
    "lasso.fit(dfScProbeA, dfClassA)\n",
    "print (lasso.alpha_, lasso.coef_)"
   ]
  },
  {
   "cell_type": "code",
   "execution_count": 22,
   "metadata": {
    "collapsed": false
   },
   "outputs": [
    {
     "name": "stdout",
     "output_type": "stream",
     "text": [
      "19.99 [[ 0.0021442   0.03284897  0.65306358  0.02707798 -0.0325694  -0.00911435\n",
      "  -0.03367469  0.00695063 -0.01239864  0.01907604 -0.13294861  0.00314168\n",
      "   0.40994637]]\n",
      "0.0500000000003 [ 0.          0.          0.65538867  0.         -0.         -0.         -0.\n",
      "  0.         -0.          0.         -0.06854376 -0.          0.34676559]\n"
     ]
    },
    {
     "name": "stderr",
     "output_type": "stream",
     "text": [
      "/opt/anaconda/lib/python3.5/site-packages/sklearn/linear_model/coordinate_descent.py:1051: DataConversionWarning: A column-vector y was passed when a 1d array was expected. Please change the shape of y to (n_samples, ), for example using ravel().\n",
      "  y = column_or_1d(y, warn=True)\n",
      "/opt/anaconda/lib/python3.5/site-packages/sklearn/linear_model/coordinate_descent.py:466: ConvergenceWarning: Objective did not converge. You might want to increase the number of iterations\n",
      "  ConvergenceWarning)\n"
     ]
    }
   ],
   "source": [
    "ridge.fit(X_train, y_train)\n",
    "print (ridge.alpha_, ridge.coef_)\n",
    "lasso.fit(X_train, y_train)\n",
    "print (lasso.alpha_, lasso.coef_)"
   ]
  },
  {
   "cell_type": "code",
   "execution_count": 29,
   "metadata": {
    "collapsed": false
   },
   "outputs": [
    {
     "name": "stdout",
     "output_type": "stream",
     "text": [
      "0.630152687551\n",
      "0.0148735210729 [ 0.          0.01762258  0.66387877  0.00933865 -0.01493092 -0.         -0.0268433\n",
      "  0.         -0.          0.00359175 -0.1140724  -0.          0.3923588 ]\n"
     ]
    },
    {
     "name": "stderr",
     "output_type": "stream",
     "text": [
      "/opt/anaconda/lib/python3.5/site-packages/sklearn/linear_model/coordinate_descent.py:1051: DataConversionWarning: A column-vector y was passed when a 1d array was expected. Please change the shape of y to (n_samples, ), for example using ravel().\n",
      "  y = column_or_1d(y, warn=True)\n",
      "/opt/anaconda/lib/python3.5/site-packages/sklearn/linear_model/coordinate_descent.py:1051: DataConversionWarning: A column-vector y was passed when a 1d array was expected. Please change the shape of y to (n_samples, ), for example using ravel().\n",
      "  y = column_or_1d(y, warn=True)\n",
      "/opt/anaconda/lib/python3.5/site-packages/sklearn/linear_model/coordinate_descent.py:1051: DataConversionWarning: A column-vector y was passed when a 1d array was expected. Please change the shape of y to (n_samples, ), for example using ravel().\n",
      "  y = column_or_1d(y, warn=True)\n",
      "/opt/anaconda/lib/python3.5/site-packages/sklearn/linear_model/coordinate_descent.py:1051: DataConversionWarning: A column-vector y was passed when a 1d array was expected. Please change the shape of y to (n_samples, ), for example using ravel().\n",
      "  y = column_or_1d(y, warn=True)\n",
      "/opt/anaconda/lib/python3.5/site-packages/sklearn/linear_model/coordinate_descent.py:1051: DataConversionWarning: A column-vector y was passed when a 1d array was expected. Please change the shape of y to (n_samples, ), for example using ravel().\n",
      "  y = column_or_1d(y, warn=True)\n",
      "/opt/anaconda/lib/python3.5/site-packages/sklearn/linear_model/coordinate_descent.py:1051: DataConversionWarning: A column-vector y was passed when a 1d array was expected. Please change the shape of y to (n_samples, ), for example using ravel().\n",
      "  y = column_or_1d(y, warn=True)\n",
      "/opt/anaconda/lib/python3.5/site-packages/sklearn/linear_model/coordinate_descent.py:1051: DataConversionWarning: A column-vector y was passed when a 1d array was expected. Please change the shape of y to (n_samples, ), for example using ravel().\n",
      "  y = column_or_1d(y, warn=True)\n",
      "/opt/anaconda/lib/python3.5/site-packages/sklearn/linear_model/coordinate_descent.py:1051: DataConversionWarning: A column-vector y was passed when a 1d array was expected. Please change the shape of y to (n_samples, ), for example using ravel().\n",
      "  y = column_or_1d(y, warn=True)\n",
      "/opt/anaconda/lib/python3.5/site-packages/sklearn/linear_model/coordinate_descent.py:1051: DataConversionWarning: A column-vector y was passed when a 1d array was expected. Please change the shape of y to (n_samples, ), for example using ravel().\n",
      "  y = column_or_1d(y, warn=True)\n",
      "/opt/anaconda/lib/python3.5/site-packages/sklearn/linear_model/coordinate_descent.py:1051: DataConversionWarning: A column-vector y was passed when a 1d array was expected. Please change the shape of y to (n_samples, ), for example using ravel().\n",
      "  y = column_or_1d(y, warn=True)\n",
      "/opt/anaconda/lib/python3.5/site-packages/sklearn/linear_model/coordinate_descent.py:1051: DataConversionWarning: A column-vector y was passed when a 1d array was expected. Please change the shape of y to (n_samples, ), for example using ravel().\n",
      "  y = column_or_1d(y, warn=True)\n"
     ]
    }
   ],
   "source": [
    "lasso = sk.LassoCV(alphas=np.logspace(-4, -0.5, 30))\n",
    "scores = cross_val_score(lasso, dfSc, dfTarget, cv=10, scoring='r2')\n",
    "print (scores.mean())\n",
    "lasso.fit(X_train, y_train)\n",
    "print (lasso.alpha_, lasso.coef_)"
   ]
  },
  {
   "cell_type": "code",
   "execution_count": 103,
   "metadata": {
    "collapsed": false
   },
   "outputs": [
    {
     "name": "stdout",
     "output_type": "stream",
     "text": [
      "0.0500000000003 [ 0.          0.          0.65538867  0.         -0.         -0.         -0.\n",
      "  0.         -0.          0.         -0.06854376 -0.          0.34676559]\n"
     ]
    },
    {
     "name": "stderr",
     "output_type": "stream",
     "text": [
      "/opt/anaconda/lib/python3.5/site-packages/sklearn/linear_model/coordinate_descent.py:466: ConvergenceWarning: Objective did not converge. You might want to increase the number of iterations\n",
      "  ConvergenceWarning)\n"
     ]
    }
   ],
   "source": [
    "fit = lasso.fit(X_train, y_train.values.ravel())\n",
    "print (lasso.alpha_, lasso.coef_)\n"
   ]
  },
  {
   "cell_type": "code",
   "execution_count": 135,
   "metadata": {
    "collapsed": false
   },
   "outputs": [
    {
     "name": "stdout",
     "output_type": "stream",
     "text": [
      "1 0.382264024496\n",
      "2 0.521022527445\n",
      "3 0.593726035916\n",
      "4 0.684115212505\n",
      "5 0.71266200903\n",
      "6 0.706922205147\n",
      "7 0.698662804233\n",
      "8 0.674870258596\n",
      "9 0.642961085269\n",
      "10 0.630656633384\n",
      "11 0.612321367921\n",
      "12 0.596413017562\n",
      "13 0.590267111581\n",
      "14 0.581879387\n",
      "15 0.584402132973\n",
      "16 0.576656895968\n",
      "17 0.598312368364\n",
      "18 0.573526485933\n",
      "19 0.577108692129\n",
      "20 0.583400598428\n",
      "21 0.589541119328\n",
      "22 0.586434797897\n",
      "23 0.583282081242\n",
      "24 0.579993723832\n",
      "25 0.586807907072\n",
      "26 0.584644113967\n",
      "27 0.578785282123\n",
      "28 0.589694129491\n",
      "29 0.590622091403\n",
      "30 0.584267631357\n",
      "31 0.59107795149\n",
      "32 0.579555313654\n",
      "33 0.585760419908\n",
      "34 0.586672276606\n",
      "35 0.584347865254\n",
      "36 0.576593723206\n",
      "37 0.574086110804\n",
      "38 0.579258621783\n",
      "39 0.576535584841\n",
      "40 0.578794070813\n",
      "41 0.587563157867\n",
      "42 0.598423670346\n",
      "43 0.575441457518\n",
      "44 0.582086782481\n",
      "45 0.581209914449\n",
      "46 0.591188983795\n",
      "47 0.584398578002\n",
      "48 0.589185946441\n",
      "49 0.574977410871\n",
      "50 0.583023255019\n",
      "51 0.58759080472\n",
      "52 0.587476046653\n",
      "53 0.572442771856\n",
      "54 0.589267743215\n",
      "55 0.580137537714\n",
      "56 0.585453846685\n",
      "57 0.589773870754\n",
      "58 0.585376653592\n",
      "59 0.585372630923\n",
      "60 0.588959454249\n",
      "61 0.580166084823\n",
      "62 0.585135581215\n",
      "63 0.580238735683\n",
      "64 0.587303702021\n",
      "65 0.589619700798\n",
      "66 0.583510795529\n",
      "67 0.588498487231\n",
      "68 0.582079576226\n",
      "69 0.575513062761\n",
      "70 0.584515322279\n",
      "71 0.585295102075\n",
      "72 0.589276288608\n",
      "73 0.583851438967\n",
      "74 0.57711945689\n",
      "75 0.585698565177\n",
      "76 0.580024409621\n",
      "77 0.568882944731\n",
      "78 0.583781675838\n",
      "79 0.577838127141\n",
      "80 0.586055146258\n",
      "81 0.580714823645\n",
      "82 0.589123011313\n",
      "83 0.598129587828\n",
      "84 0.575468516486\n",
      "85 0.576973774091\n",
      "86 0.57854525853\n",
      "87 0.576484429623\n",
      "88 0.581357428658\n",
      "89 0.59232559752\n",
      "90 0.584578702458\n",
      "91 0.591385314644\n",
      "92 0.587088239109\n",
      "93 0.574360675842\n",
      "94 0.597058637113\n",
      "95 0.586516271556\n",
      "96 0.580848525155\n",
      "97 0.582803066569\n",
      "98 0.583848465187\n",
      "99 0.583409800313\n",
      "0.382264024496\n"
     ]
    }
   ],
   "source": [
    "k_range = range(1, 100)\n",
    "k_scores = []\n",
    "for k in k_range:\n",
    "    dTree = tree.DecisionTreeRegressor(max_depth = k)\n",
    "    scores = cross_val_score(dTree, dfSc, dfTarget, cv=5, scoring='r2')\n",
    "    print (k, scores.mean())\n",
    "    k_scores.append(scores.mean())\n",
    "print(np.amin(k_scores))\n"
   ]
  },
  {
   "cell_type": "code",
   "execution_count": 134,
   "metadata": {
    "collapsed": true
   },
   "outputs": [],
   "source": [
    "#predicting"
   ]
  },
  {
   "cell_type": "code",
   "execution_count": 42,
   "metadata": {
    "collapsed": false
   },
   "outputs": [
    {
     "name": "stdout",
     "output_type": "stream",
     "text": [
      "[ 0.308398]\n"
     ]
    }
   ],
   "source": [
    "#print (y_test)\n",
    "predictedSet = (ridge.predict(X_test))\n",
    "totalLoss = 0\n",
    "\n",
    "#print (y_test, predictedSet)\n",
    "#print(y_test['TNA'].iloc[299])\n",
    "#print (predictedSet[299])\n",
    "for index, list in enumerate(predictedSet):\n",
    "    #print (predictedSet[x])\n",
    "    #print (y_test['TNA'].iloc[index], '---', list[0])\n",
    "    loss = (list -  y_test['TNA'].iloc[index]) ** 2 \n",
    "    totalLoss = totalLoss + loss\n",
    "print (totalLoss/len(predictedSet))"
   ]
  },
  {
   "cell_type": "code",
   "execution_count": 60,
   "metadata": {
    "collapsed": false
   },
   "outputs": [
    {
     "name": "stdout",
     "output_type": "stream",
     "text": [
      "0.306860223372\n"
     ]
    }
   ],
   "source": [
    "predictedSet = (lasso.predict(X_test))\n",
    "totalLoss = 0\n",
    "for index, list in enumerate(predictedSet):\n",
    "    loss = (list -  y_test['TNA'].iloc[index]) ** 2 \n",
    "    totalLoss = totalLoss + loss    \n",
    "print (totalLoss/len(predictedSet))"
   ]
  },
  {
   "cell_type": "code",
   "execution_count": 131,
   "metadata": {
    "collapsed": false
   },
   "outputs": [
    {
     "name": "stdout",
     "output_type": "stream",
     "text": [
      "0.424182470075\n"
     ]
    }
   ],
   "source": [
    "dTree.fit(X_train, y_train)\n",
    "\n",
    "predictedSet = (dTree.predict(X_test))\n",
    "totalLoss = 0\n",
    "for index, list in enumerate(predictedSet):\n",
    "    loss = (list -  y_test['TNA'].iloc[index]) ** 2 \n",
    "    totalLoss = totalLoss + loss    \n",
    "print (totalLoss/len(predictedSet))\n",
    "\n",
    "\n"
   ]
  },
  {
   "cell_type": "code",
   "execution_count": null,
   "metadata": {
    "collapsed": true
   },
   "outputs": [],
   "source": []
  },
  {
   "cell_type": "code",
   "execution_count": 150,
   "metadata": {
    "collapsed": false
   },
   "outputs": [
    {
     "name": "stdout",
     "output_type": "stream",
     "text": [
      "0.461586003722\n",
      "0.186613892341\n",
      "0.41274841707\n",
      "0.432324986151\n",
      "0.342541137589\n",
      "0.427400018567\n",
      "0.473750034275\n",
      "0.349630404059\n",
      "0.421016250156\n",
      "0.248184083913\n",
      "0.375579522784\n"
     ]
    }
   ],
   "source": [
    "k = 10\n",
    "kf = KFold(len(dfSc),k)\n",
    "sum_accuracy = 0\n",
    "\n",
    "    #KFold returns a list containing the training instances and testing instances in each list item\n",
    "    #will have 10 items in the list if using 10-fold CV\n",
    "for train, test in kf:\n",
    "    trainingDf = dfSc.iloc[train].copy()\n",
    "    testingDf = dfSc.iloc[test].copy()\n",
    "    trainingDfTarget = dfTarget.iloc[train].copy()\n",
    "    testingDfTarget = dfTarget.iloc[test].copy()\n",
    "\n",
    "    #training = training.drop(8, 1)\n",
    "\n",
    "    #trainingDf = scaleData(trainingDf,1)\n",
    "    #testingDf = scaleData(testingDf, 1)\n",
    "\n",
    "    target = trainingDfTarget.as_matrix()\n",
    "    training = trainingDf.as_matrix()\n",
    "    testingTarget = testingDfTarget.as_matrix()\n",
    "    testing = testingDf.as_matrix()\n",
    "    target = target.squeeze()\n",
    "\n",
    "    dTree = tree.DecisionTreeRegressor(max_depth = 1)\n",
    "    dTree.fit(training, target)\n",
    "\n",
    "    predictVal = ((dTree.predict(testing)))\n",
    "    #predictProb =  knn_model.predict_proba(testing)\n",
    "    #confusion = metrics.confusion_matrix(testingTarget, predictVal)\n",
    "    #print (confusion)\n",
    "    #TP = confusion[1,1]\n",
    "    #TN = confusion[0,0]\n",
    "    #FP = confusion[0,1]\n",
    "    #FN = confusion[1,0]\n",
    "    #print (TN/float(TN+FP))\n",
    "\n",
    "    #print (metrics.recall_score(testingTarget, predictVal))\n",
    "    #y_pred_prob = knn_model.predict_proba(testing)[:, 1]\n",
    "    scores = r2_score(testingDfTarget, predictVal) \n",
    "    print (scores)\n",
    "    #auc = (metrics.roc_auc_score(testingTarget, y_pred_prob))\n",
    "    #auccracy_score\n",
    "    sum_accuracy = sum_accuracy + scores\n",
    "\n",
    "\n",
    "print (sum_accuracy/k)"
   ]
  },
  {
   "cell_type": "code",
   "execution_count": null,
   "metadata": {
    "collapsed": true
   },
   "outputs": [],
   "source": [
    "k = 10\n",
    "kf = KFold(len(dfSc),k)\n",
    "sum_accuracy = 0\n",
    "\n",
    "    #KFold returns a list containing the training instances and testing instances in each list item\n",
    "    #will have 10 items in the list if using 10-fold CV\n",
    "for train, test in kf:\n",
    "    trainingDf = dfSc.iloc[train].copy()\n",
    "    testingDf = dfSc.iloc[test].copy()\n",
    "    trainingDfTarget = dfTarget.iloc[train].copy()\n",
    "    testingDfTarget = dfTarget.iloc[test].copy()\n",
    "\n",
    "    #training = training.drop(8, 1)\n",
    "\n",
    "    #trainingDf = scaleData(trainingDf,1)\n",
    "    #testingDf = scaleData(testingDf, 1)\n",
    "\n",
    "    target = trainingDfTarget.as_matrix()\n",
    "    training = trainingDf.as_matrix()\n",
    "    testingTarget = testingDfTarget.as_matrix()\n",
    "    testing = testingDf.as_matrix()\n",
    "    target = target.squeeze()\n",
    "\n",
    "    ridge = sk.RidgeCV(alphas = np.arange(-20,20,0.01))\n",
    "    ridge.fit(training, target)\n",
    "\n",
    "    predictVal = ((ridge.predict(testing)))\n",
    "    #predictProb =  knn_model.predict_proba(testing)\n",
    "    #confusion = metrics.confusion_matrix(testingTarget, predictVal)\n",
    "    #print (confusion)\n",
    "    #TP = confusion[1,1]\n",
    "    #TN = confusion[0,0]\n",
    "    #FP = confusion[0,1]\n",
    "    #FN = confusion[1,0]\n",
    "    #print (TN/float(TN+FP))\n",
    "\n",
    "    #print (metrics.recall_score(testingTarget, predictVal))\n",
    "    #y_pred_prob = knn_model.predict_proba(testing)[:, 1]\n",
    "    scores = r2_score(testingDfTarget, predictVal) \n",
    "    \n",
    "    #auc = (metrics.roc_auc_score(testingTarget, y_pred_prob))\n",
    "    #auccracy_score\n",
    "    sum_accuracy = sum_accuracy + scores.mean()\n",
    "\n",
    "\n",
    "print (sum_accuracy/k)"
   ]
  },
  {
   "cell_type": "code",
   "execution_count": null,
   "metadata": {
    "collapsed": true
   },
   "outputs": [],
   "source": []
  }
 ],
 "metadata": {
  "anaconda-cloud": {},
  "kernelspec": {
   "display_name": "Python [conda root]",
   "language": "python",
   "name": "conda-root-py"
  },
  "language_info": {
   "codemirror_mode": {
    "name": "ipython",
    "version": 3
   },
   "file_extension": ".py",
   "mimetype": "text/x-python",
   "name": "python",
   "nbconvert_exporter": "python",
   "pygments_lexer": "ipython3",
   "version": "3.5.2"
  }
 },
 "nbformat": 4,
 "nbformat_minor": 1
}
