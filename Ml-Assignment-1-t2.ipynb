{
 "cells": [
  {
   "cell_type": "code",
   "execution_count": 2,
   "metadata": {
    "collapsed": false
   },
   "outputs": [],
   "source": [
    "%matplotlib inline\n",
    "import math\n",
    "import pandas as pd\n",
    "import numpy as np\n",
    "import matplotlib.pyplot as plt\n",
    "import sklearn.linear_model as sk\n",
    "from sklearn import tree\n",
    "from sklearn.cross_validation import KFold\n",
    "from sklearn.neighbors import KNeighborsClassifier\n",
    "from sklearn import metrics\n",
    "from sklearn.cross_validation import cross_val_score\n",
    "from sklearn.metrics import r2_score\n",
    "from sklearn.cross_validation import cross_val_predict\n"
   ]
  },
  {
   "cell_type": "code",
   "execution_count": 3,
   "metadata": {
    "collapsed": true
   },
   "outputs": [],
   "source": [
    "def scaleData(dataFrame,flag):\n",
    "    df = dataFrame.copy()\n",
    "\n",
    "    for var in df:\n",
    "        mean = df[var].mean()\n",
    "        std = df[var].std()\n",
    "        l1 = (df[var].abs()).sum()\n",
    "\n",
    "        if(flag == 1):\n",
    "            df[var] = (df[var]-mean)/std\n",
    "        else:\n",
    "            df[var] = df[var]/l1\n",
    "\n",
    "    return df"
   ]
  },
  {
   "cell_type": "code",
   "execution_count": 4,
   "metadata": {
    "collapsed": false
   },
   "outputs": [],
   "source": [
    "dfProbeA = pd.read_csv('./UKSA/probeA.csv', header = 0)\n",
    "dfScProbeA = scaleData(dfProbeA, 1)\n",
    "\n",
    "dfProbeB = pd.read_csv('./UKSA/probeB.csv', header = 0)\n",
    "dfScProbeB = scaleData(dfProbeB, 1)\n",
    "\n",
    "dfClassA = pd.read_csv('./UKSA/classA.csv', header = 0)\n"
   ]
  },
  {
   "cell_type": "code",
   "execution_count": 5,
   "metadata": {
    "collapsed": false
   },
   "outputs": [],
   "source": [
    "featureCols = ['c1','c2','c3','m1','m2','m3','n1','n2','n3','p1','p2','p3']\n",
    "dfTrain = dfProbeA[featureCols]\n",
    "dfTarget = dfProbeA[['TNA']]\n",
    "\n",
    "dfSc = scaleData(dfTrain, 1)\n"
   ]
  },
  {
   "cell_type": "code",
   "execution_count": 6,
   "metadata": {
    "collapsed": false
   },
   "outputs": [
    {
     "name": "stdout",
     "output_type": "stream",
     "text": [
      "1 0.00943470154694\n",
      "2 0.0849125374575\n",
      "3 0.101242769456\n",
      "4 0.267864140953\n",
      "0.00943470154694\n"
     ]
    }
   ],
   "source": [
    "k_range = range(1, 5)\n",
    "k_scores = []\n",
    "for k in k_range:\n",
    "    dTree = tree.DecisionTreeRegressor(max_features = k, max_depth = 1)\n",
    "    scores = cross_val_score(dTree, dfSc, dfTarget, cv=10, scoring='r2')\n",
    "    k_scores.append(scores.mean())\n",
    "    print (k, scores.mean())\n",
    "print(np.amin(k_scores))"
   ]
  },
  {
   "cell_type": "code",
   "execution_count": 7,
   "metadata": {
    "collapsed": false
   },
   "outputs": [],
   "source": [
    "from sklearn.cross_validation import train_test_split\n",
    "\n",
    "X_train, X_test, y_train, y_test = train_test_split(dfSc, dfTarget, test_size = .1, random_state=0)\n"
   ]
  },
  {
   "cell_type": "code",
   "execution_count": 8,
   "metadata": {
    "collapsed": false
   },
   "outputs": [
    {
     "name": "stderr",
     "output_type": "stream",
     "text": [
      "/opt/anaconda/lib/python3.5/site-packages/sklearn/linear_model/coordinate_descent.py:1051: DataConversionWarning: A column-vector y was passed when a 1d array was expected. Please change the shape of y to (n_samples, ), for example using ravel().\n",
      "  y = column_or_1d(y, warn=True)\n",
      "/opt/anaconda/lib/python3.5/site-packages/sklearn/linear_model/coordinate_descent.py:1051: DataConversionWarning: A column-vector y was passed when a 1d array was expected. Please change the shape of y to (n_samples, ), for example using ravel().\n",
      "  y = column_or_1d(y, warn=True)\n",
      "/opt/anaconda/lib/python3.5/site-packages/sklearn/linear_model/coordinate_descent.py:1051: DataConversionWarning: A column-vector y was passed when a 1d array was expected. Please change the shape of y to (n_samples, ), for example using ravel().\n",
      "  y = column_or_1d(y, warn=True)\n",
      "/opt/anaconda/lib/python3.5/site-packages/sklearn/linear_model/coordinate_descent.py:1051: DataConversionWarning: A column-vector y was passed when a 1d array was expected. Please change the shape of y to (n_samples, ), for example using ravel().\n",
      "  y = column_or_1d(y, warn=True)\n",
      "/opt/anaconda/lib/python3.5/site-packages/sklearn/linear_model/coordinate_descent.py:1051: DataConversionWarning: A column-vector y was passed when a 1d array was expected. Please change the shape of y to (n_samples, ), for example using ravel().\n",
      "  y = column_or_1d(y, warn=True)\n",
      "/opt/anaconda/lib/python3.5/site-packages/sklearn/linear_model/coordinate_descent.py:1051: DataConversionWarning: A column-vector y was passed when a 1d array was expected. Please change the shape of y to (n_samples, ), for example using ravel().\n",
      "  y = column_or_1d(y, warn=True)\n",
      "/opt/anaconda/lib/python3.5/site-packages/sklearn/linear_model/coordinate_descent.py:1051: DataConversionWarning: A column-vector y was passed when a 1d array was expected. Please change the shape of y to (n_samples, ), for example using ravel().\n",
      "  y = column_or_1d(y, warn=True)\n",
      "/opt/anaconda/lib/python3.5/site-packages/sklearn/linear_model/coordinate_descent.py:1051: DataConversionWarning: A column-vector y was passed when a 1d array was expected. Please change the shape of y to (n_samples, ), for example using ravel().\n",
      "  y = column_or_1d(y, warn=True)\n",
      "/opt/anaconda/lib/python3.5/site-packages/sklearn/linear_model/coordinate_descent.py:1051: DataConversionWarning: A column-vector y was passed when a 1d array was expected. Please change the shape of y to (n_samples, ), for example using ravel().\n",
      "  y = column_or_1d(y, warn=True)\n",
      "/opt/anaconda/lib/python3.5/site-packages/sklearn/linear_model/coordinate_descent.py:1051: DataConversionWarning: A column-vector y was passed when a 1d array was expected. Please change the shape of y to (n_samples, ), for example using ravel().\n",
      "  y = column_or_1d(y, warn=True)\n",
      "/opt/anaconda/lib/python3.5/site-packages/sklearn/linear_model/coordinate_descent.py:1051: DataConversionWarning: A column-vector y was passed when a 1d array was expected. Please change the shape of y to (n_samples, ), for example using ravel().\n",
      "  y = column_or_1d(y, warn=True)\n",
      "/opt/anaconda/lib/python3.5/site-packages/sklearn/linear_model/coordinate_descent.py:1051: DataConversionWarning: A column-vector y was passed when a 1d array was expected. Please change the shape of y to (n_samples, ), for example using ravel().\n",
      "  y = column_or_1d(y, warn=True)\n",
      "/opt/anaconda/lib/python3.5/site-packages/sklearn/linear_model/coordinate_descent.py:1051: DataConversionWarning: A column-vector y was passed when a 1d array was expected. Please change the shape of y to (n_samples, ), for example using ravel().\n",
      "  y = column_or_1d(y, warn=True)\n",
      "/opt/anaconda/lib/python3.5/site-packages/sklearn/linear_model/coordinate_descent.py:1051: DataConversionWarning: A column-vector y was passed when a 1d array was expected. Please change the shape of y to (n_samples, ), for example using ravel().\n",
      "  y = column_or_1d(y, warn=True)\n",
      "/opt/anaconda/lib/python3.5/site-packages/sklearn/linear_model/coordinate_descent.py:1051: DataConversionWarning: A column-vector y was passed when a 1d array was expected. Please change the shape of y to (n_samples, ), for example using ravel().\n",
      "  y = column_or_1d(y, warn=True)\n",
      "/opt/anaconda/lib/python3.5/site-packages/sklearn/linear_model/coordinate_descent.py:1051: DataConversionWarning: A column-vector y was passed when a 1d array was expected. Please change the shape of y to (n_samples, ), for example using ravel().\n",
      "  y = column_or_1d(y, warn=True)\n",
      "/opt/anaconda/lib/python3.5/site-packages/sklearn/linear_model/coordinate_descent.py:1051: DataConversionWarning: A column-vector y was passed when a 1d array was expected. Please change the shape of y to (n_samples, ), for example using ravel().\n",
      "  y = column_or_1d(y, warn=True)\n",
      "/opt/anaconda/lib/python3.5/site-packages/sklearn/linear_model/coordinate_descent.py:1051: DataConversionWarning: A column-vector y was passed when a 1d array was expected. Please change the shape of y to (n_samples, ), for example using ravel().\n",
      "  y = column_or_1d(y, warn=True)\n",
      "/opt/anaconda/lib/python3.5/site-packages/sklearn/linear_model/coordinate_descent.py:1051: DataConversionWarning: A column-vector y was passed when a 1d array was expected. Please change the shape of y to (n_samples, ), for example using ravel().\n",
      "  y = column_or_1d(y, warn=True)\n",
      "/opt/anaconda/lib/python3.5/site-packages/sklearn/linear_model/coordinate_descent.py:1051: DataConversionWarning: A column-vector y was passed when a 1d array was expected. Please change the shape of y to (n_samples, ), for example using ravel().\n",
      "  y = column_or_1d(y, warn=True)\n"
     ]
    },
    {
     "name": "stdout",
     "output_type": "stream",
     "text": [
      "0.541273888328\n"
     ]
    },
    {
     "data": {
      "image/png": "[encoded data removed]",
      "text/plain": [
       "<matplotlib.figure.Figure at 0x7fea252ba978>"
      ]
     },
     "metadata": {},
     "output_type": "display_data"
    }
   ],
   "source": [
    "fold = 10\n",
    "\n",
    "ridge = sk.LassoCV(alphas = np.logspace(-4, -0.5, 30))\n",
    "scores = cross_val_score(ridge, dfSc, dfTarget, cv=fold, scoring='r2')\n",
    "predict = cross_val_predict(ridge, dfSc, dfTarget, cv=fold)\n",
    "\n",
    "print (scores.mean())\n",
    "fig, ax = plt.subplots()\n",
    "ax.scatter(dfTarget, predict)\n",
    "ax.plot([dfTarget.min(), dfTarget.max()], [dfTarget.min(), dfTarget.max()], 'k--', lw=4)\n",
    "ax.set_xlabel('Measured')\n",
    "ax.set_ylabel('Predicted')\n",
    "plt.show()\n",
    "\n"
   ]
  },
  {
   "cell_type": "code",
   "execution_count": 9,
   "metadata": {
    "collapsed": false
   },
   "outputs": [
    {
     "name": "stdout",
     "output_type": "stream",
     "text": [
      "2.84217094304e-13 [  2.83721656e-01  -1.08913679e-03  -7.26627185e-03   2.12288030e-02\n",
      "  -1.12542364e-02   1.22678519e-02   1.17584052e-02   6.29618787e-02\n",
      "  -1.13789969e-02   3.26000197e-02  -2.47028139e-03   1.32439218e-01\n",
      "   1.83365899e-04]\n"
     ]
    },
    {
     "name": "stderr",
     "output_type": "stream",
     "text": [
      "/opt/anaconda/lib/python3.5/site-packages/sklearn/linear_model/coordinate_descent.py:1051: DataConversionWarning: A column-vector y was passed when a 1d array was expected. Please change the shape of y to (n_samples, ), for example using ravel().\n",
      "  y = column_or_1d(y, warn=True)\n",
      "/opt/anaconda/lib/python3.5/site-packages/sklearn/linear_model/coordinate_descent.py:466: ConvergenceWarning: Objective did not converge. You might want to increase the number of iterations\n",
      "  ConvergenceWarning)\n"
     ]
    }
   ],
   "source": [
    "\n",
    "\n",
    "lasso = sk.LassoCV(alphas=np.arange(-20,20,0.05))\n",
    "lasso.fit(dfScProbeA, dfClassA)\n",
    "print (lasso.alpha_, lasso.coef_)\n",
    "\n"
   ]
  },
  {
   "cell_type": "code",
   "execution_count": 20,
   "metadata": {
    "collapsed": false
   },
   "outputs": [
    {
     "name": "stdout",
     "output_type": "stream",
     "text": [
      "0.38306101197\n",
      "0.441781022462\n"
     ]
    },
    {
     "data": {
      "image/png": "[encoded data removed]",
      "text/plain": [
       "<matplotlib.figure.Figure at 0x7fea217bd0f0>"
      ]
     },
     "metadata": {},
     "output_type": "display_data"
    }
   ],
   "source": [
    "dTree = tree.DecisionTreeRegressor(max_features = 3)\n",
    "scores = cross_val_score(dTree, dfSc, dfTarget, cv=fold, scoring='r2')\n",
    "print (scores.mean())\n",
    "\n",
    "predict = cross_val_predict(dTree, dfSc, dfTarget, cv=fold)\n",
    "print(r2_score(dfTarget, predict)) \n",
    "fig, ax = plt.subplots()\n",
    "ax.scatter(dfTarget, predict)\n",
    "ax.plot([dfTarget.min(), dfTarget.max()], [dfTarget.min(), dfTarget.max()], 'k--', lw=4)\n",
    "ax.set_xlabel('Measured')\n",
    "ax.set_ylabel('Predicted')\n",
    "plt.show()\n",
    "\n",
    "\n",
    "\n",
    "np.savetxt(\"myshame.csv\", predict, delimiter=\",\")\n"
   ]
  },
  {
   "cell_type": "code",
   "execution_count": null,
   "metadata": {
    "collapsed": false
   },
   "outputs": [],
   "source": [
    "dTree = tree.DecisionTreeRegressor(max_depth = 1)\n",
    "dTree.fit(dfSc, dfTarget)\n",
    "predictedSet = (dTree.predict(dfScProbeB))\n",
    "\n"
   ]
  },
  {
   "cell_type": "code",
   "execution_count": null,
   "metadata": {
    "collapsed": false
   },
   "outputs": [],
   "source": [
    "\n"
   ]
  },
  {
   "cell_type": "code",
   "execution_count": null,
   "metadata": {
    "collapsed": false
   },
   "outputs": [],
   "source": []
  },
  {
   "cell_type": "code",
   "execution_count": null,
   "metadata": {
    "collapsed": true
   },
   "outputs": [],
   "source": [
    "#predicting"
   ]
  },
  {
   "cell_type": "code",
   "execution_count": null,
   "metadata": {
    "collapsed": false
   },
   "outputs": [],
   "source": [
    "#print (y_test)\n",
    "predictedSet = (ridge.predict(X_test))\n",
    "totalLoss = 0\n",
    "\n",
    "#print (y_test, predictedSet)\n",
    "#print(y_test['TNA'].iloc[299])\n",
    "#print (predictedSet[299])\n",
    "for index, list in enumerate(predictedSet):\n",
    "    #print (predictedSet[x])\n",
    "    #print (y_test['TNA'].iloc[index], '---', list[0])\n",
    "    loss = (list -  y_test['TNA'].iloc[index]) ** 2 \n",
    "    totalLoss = totalLoss + loss\n",
    "print (totalLoss/len(predictedSet))"
   ]
  },
  {
   "cell_type": "code",
   "execution_count": null,
   "metadata": {
    "collapsed": false
   },
   "outputs": [],
   "source": [
    "predictedSet = (lasso.predict(X_test))\n",
    "totalLoss = 0\n",
    "for index, list in enumerate(predictedSet):\n",
    "    loss = (list -  y_test['TNA'].iloc[index]) ** 2 \n",
    "    totalLoss = totalLoss + loss    \n",
    "print (totalLoss/len(predictedSet))"
   ]
  },
  {
   "cell_type": "code",
   "execution_count": null,
   "metadata": {
    "collapsed": false
   },
   "outputs": [],
   "source": [
    "dTree = tree.DecisionTreeRegressor(max_features = 3)\n",
    "dTree.fit(X_train, y_train)\n",
    "\n",
    "predictedSet = (dTree.predict(X_test))\n",
    "totalLoss = 0\n",
    "for index, list in enumerate(predictedSet):\n",
    "    loss = (list -  y_test['TNA'].iloc[index]) ** 2 \n",
    "    totalLoss = totalLoss + loss    \n",
    "print (totalLoss/len(predictedSet))\n",
    "\n",
    "\n"
   ]
  },
  {
   "cell_type": "code",
   "execution_count": null,
   "metadata": {
    "collapsed": true
   },
   "outputs": [],
   "source": []
  },
  {
   "cell_type": "code",
   "execution_count": null,
   "metadata": {
    "collapsed": false
   },
   "outputs": [],
   "source": [
    "k = 10\n",
    "kf = KFold(len(dfSc),k)\n",
    "sum_accuracy = 0\n",
    "\n",
    "    #KFold returns a list containing the training instances and testing instances in each list item\n",
    "    #will have 10 items in the list if using 10-fold CV\n",
    "for train, test in kf:\n",
    "    trainingDf = dfSc.iloc[train].copy()\n",
    "    testingDf = dfSc.iloc[test].copy()\n",
    "    trainingDfTarget = dfTarget.iloc[train].copy()\n",
    "    testingDfTarget = dfTarget.iloc[test].copy()\n",
    "\n",
    "    #training = training.drop(8, 1)\n",
    "\n",
    "    #trainingDf = scaleData(trainingDf,1)\n",
    "    #testingDf = scaleData(testingDf, 1)\n",
    "\n",
    "    target = trainingDfTarget.as_matrix()\n",
    "    training = trainingDf.as_matrix()\n",
    "    testingTarget = testingDfTarget.as_matrix()\n",
    "    testing = testingDf.as_matrix()\n",
    "    target = target.squeeze()\n",
    "\n",
    "    dTree = tree.DecisionTreeRegressor(max_features = 3)\n",
    "    dTree.fit(training, target)\n",
    "\n",
    "    predictVal = ((dTree.predict(testing)))\n",
    "    #predictProb =  knn_model.predict_proba(testing)\n",
    "    #confusion = metrics.confusion_matrix(testingTarget, predictVal)\n",
    "    #print (confusion)\n",
    "    #TP = confusion[1,1]\n",
    "    #TN = confusion[0,0]\n",
    "    #FP = confusion[0,1]\n",
    "    #FN = confusion[1,0]\n",
    "    #print (TN/float(TN+FP))\n",
    "\n",
    "    #print (metrics.recall_score(testingTarget, predictVal))\n",
    "    #y_pred_prob = knn_model.predict_proba(testing)[:, 1]\n",
    "    scores = r2_score(testingDfTarget, predictVal) \n",
    "    print (\"Score\", scores)\n",
    "    #auc = (metrics.roc_auc_score(testingTarget, y_pred_prob))\n",
    "    #auccracy_score\n",
    "    sum_accuracy = sum_accuracy + scores\n",
    "\n",
    "\n",
    "print (sum_accuracy/k)"
   ]
  },
  {
   "cell_type": "code",
   "execution_count": null,
   "metadata": {
    "collapsed": false
   },
   "outputs": [],
   "source": [
    "k = 10\n",
    "kf = KFold(len(dfSc),k)\n",
    "sum_accuracy = 0\n",
    "\n",
    "    #KFold returns a list containing the training instances and testing instances in each list item\n",
    "    #will have 10 items in the list if using 10-fold CV\n",
    "for train, test in kf:\n",
    "    trainingDf = dfSc.iloc[train].copy()\n",
    "    testingDf = dfSc.iloc[test].copy()\n",
    "    trainingDfTarget = dfTarget.iloc[train].copy()\n",
    "    testingDfTarget = dfTarget.iloc[test].copy()\n",
    "\n",
    "    #training = training.drop(8, 1)\n",
    "\n",
    "    #trainingDf = scaleData(trainingDf,1)\n",
    "    #testingDf = scaleData(testingDf, 1)\n",
    "\n",
    "    target = trainingDfTarget.as_matrix()\n",
    "    training = trainingDf.as_matrix()\n",
    "    testingTarget = testingDfTarget.as_matrix()\n",
    "    testing = testingDf.as_matrix()\n",
    "    target = target.squeeze()\n",
    "\n",
    "    ridge = sk.RidgeCV(alphas = np.logspace(-4, -0.5, 30))\n",
    "    ridge.fit(training, target)\n",
    "\n",
    "    predictVal = ((ridge.predict(testing)))\n",
    "    #predictProb =  knn_model.predict_proba(testing)\n",
    "    #confusion = metrics.confusion_matrix(testingTarget, predictVal)\n",
    "    #print (confusion)\n",
    "    #TP = confusion[1,1]\n",
    "    #TN = confusion[0,0]\n",
    "    #FP = confusion[0,1]\n",
    "    #FN = confusion[1,0]\n",
    "    #print (TN/float(TN+FP))\n",
    "\n",
    "    #print (metrics.recall_score(testingTarget, predictVal))\n",
    "    #y_pred_prob = knn_model.predict_proba(testing)[:, 1]\n",
    "    scores = r2_score(testingDfTarget, predictVal) \n",
    "    print (\"Score\", scores)\n",
    "    #auc = (metrics.roc_auc_score(testingTarget, y_pred_prob))\n",
    "    #auccracy_score\n",
    "    sum_accuracy = sum_accuracy + scores.mean()\n",
    "\n",
    "\n",
    "print (sum_accuracy/k)"
   ]
  },
  {
   "cell_type": "code",
   "execution_count": null,
   "metadata": {
    "collapsed": false
   },
   "outputs": [],
   "source": [
    "lasso = sk.LassoCV(alphas=np.arange(-0.1,0.01,0.0005))\n",
    "scores = cross_val_score(lasso, dfSc, dfTarget.values.ravel(), cv=10, scoring='r2')\n",
    "print (scores.mean())\n"
   ]
  },
  {
   "cell_type": "code",
   "execution_count": null,
   "metadata": {
    "collapsed": false
   },
   "outputs": [],
   "source": [
    "\n",
    "\n",
    "lasso = sk.RidgeCV(alphas=np.arange(-0.1,0.01,0.0005))\n",
    "scores = cross_val_score(lasso, dfSc, dfTarget.values.ravel(), cv=10, scoring='r2')\n",
    "print (scores.mean())\n"
   ]
  },
  {
   "cell_type": "code",
   "execution_count": null,
   "metadata": {
    "collapsed": false
   },
   "outputs": [],
   "source": [
    "dTree = tree.DecisionTreeRegressor(max_features = 3)\n",
    "scores = cross_val_score(dTree, dfSc, dfTarget.values.ravel(), cv=10, scoring='r2')\n",
    "print (scores, scores.mean())"
   ]
  },
  {
   "cell_type": "code",
   "execution_count": 21,
   "metadata": {
    "collapsed": false
   },
   "outputs": [
    {
     "name": "stdout",
     "output_type": "stream",
     "text": [
      "            0\n",
      "0    0.410581\n",
      "1    2.263778\n",
      "2    2.800993\n",
      "3    1.005249\n",
      "4   -0.155314\n",
      "5    0.463227\n",
      "6    2.585195\n",
      "7    2.490802\n",
      "8    2.450834\n",
      "9    2.059464\n",
      "10   2.084198\n",
      "11  -0.246685\n",
      "12   1.214710\n",
      "13  -0.155314\n",
      "14   1.591305\n",
      "15   1.835387\n",
      "16   2.019519\n",
      "17   0.287040\n",
      "18   2.609673\n",
      "19   3.289246\n",
      "20   0.318292\n",
      "21  -0.286491\n",
      "22  -0.068894\n",
      "23   0.885468\n",
      "24   1.615873\n",
      "25   2.445258\n",
      "26   0.678753\n",
      "27   1.968997\n",
      "28   0.317508\n",
      "29   1.972668\n",
      "..        ...\n",
      "970 -0.425377\n",
      "971 -0.177053\n",
      "972  2.137565\n",
      "973  0.382695\n",
      "974 -0.193024\n",
      "975  0.574110\n",
      "976  1.227958\n",
      "977  0.089967\n",
      "978  1.992493\n",
      "979  0.026020\n",
      "980 -0.507980\n",
      "981  1.100412\n",
      "982 -0.186352\n",
      "983  1.704298\n",
      "984  2.338077\n",
      "985  3.266250\n",
      "986  0.552033\n",
      "987  0.787822\n",
      "988  0.409184\n",
      "989  1.180839\n",
      "990  0.902308\n",
      "991  1.126234\n",
      "992  0.928013\n",
      "993  2.609673\n",
      "994  0.745343\n",
      "995  1.193968\n",
      "996  1.695582\n",
      "997  1.572684\n",
      "998  0.263969\n",
      "999  1.323956\n",
      "\n",
      "[1000 rows x 1 columns]\n"
     ]
    }
   ],
   "source": []
  },
  {
   "cell_type": "code",
   "execution_count": null,
   "metadata": {
    "collapsed": true
   },
   "outputs": [],
   "source": []
  }
 ],
 "metadata": {
  "anaconda-cloud": {},
  "kernelspec": {
   "display_name": "Python [default]",
   "language": "python",
   "name": "python3"
  },
  "language_info": {
   "codemirror_mode": {
    "name": "ipython",
    "version": 3
   },
   "file_extension": ".py",
   "mimetype": "text/x-python",
   "name": "python",
   "nbconvert_exporter": "python",
   "pygments_lexer": "ipython3",
   "version": "3.5.2"
  }
 },
 "nbformat": 4,
 "nbformat_minor": 1
}
