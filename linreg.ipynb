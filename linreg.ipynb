{
 "cells": [
  {
   "cell_type": "code",
   "execution_count": 27,
   "metadata": {
    "collapsed": false,
    "scrolled": true
   },
   "outputs": [
    {
     "name": "stdout",
     "output_type": "stream",
     "text": [
      "    Year   Time\n",
      "0   1896  12.00\n",
      "1   1900  11.00\n",
      "2   1904  11.00\n",
      "3   1906  11.20\n",
      "4   1908  10.80\n",
      "5   1912  10.80\n",
      "6   1920  10.80\n",
      "7   1924  10.60\n",
      "8   1928  10.80\n",
      "9   1932  10.30\n",
      "10  1936  10.30\n",
      "11  1948  10.30\n",
      "12  1952  10.40\n",
      "13  1956  10.50\n",
      "14  1960  10.20\n",
      "15  1964  10.00\n",
      "16  1968   9.95\n",
      "17  1972  10.14\n",
      "18  1976  10.06\n",
      "19  1980  10.25\n",
      "20  1984   9.99\n",
      "21  1988   9.92\n",
      "22  1992   9.96\n",
      "23  1996   9.84\n",
      "24  2000   9.87\n",
      "25  2004   9.85\n",
      "26  2008   9.69\n",
      "1952.3703703703704 35.67389494611965\n",
      "        Year   Time  Const\n",
      "0  -1.580157  12.00      1\n",
      "1  -1.468031  11.00      1\n",
      "2  -1.355904  11.00      1\n",
      "3  -1.299840  11.20      1\n",
      "4  -1.243777  10.80      1\n",
      "5  -1.131650  10.80      1\n",
      "6  -0.907397  10.80      1\n",
      "7  -0.795270  10.60      1\n",
      "8  -0.683143  10.80      1\n",
      "9  -0.571016  10.30      1\n",
      "10 -0.458889  10.30      1\n",
      "11 -0.122509  10.30      1\n",
      "12 -0.010382  10.40      1\n",
      "13  0.101745  10.50      1\n",
      "14  0.213872  10.20      1\n",
      "15  0.325998  10.00      1\n",
      "16  0.438125   9.95      1\n",
      "17  0.550252  10.14      1\n",
      "18  0.662379  10.06      1\n",
      "19  0.774506  10.25      1\n",
      "20  0.886632   9.99      1\n",
      "21  0.998759   9.92      1\n",
      "22  1.110886   9.96      1\n",
      "23  1.223013   9.84      1\n",
      "24  1.335140   9.87      1\n",
      "25  1.447266   9.85      1\n",
      "26  1.559393   9.69      1\n",
      "[[ 10.38962963]\n",
      " [ -0.47556462]]\n"
     ]
    },
    {
     "name": "stderr",
     "output_type": "stream",
     "text": [
      "/opt/anaconda/lib/python3.5/site-packages/pandas/core/indexing.py:132: SettingWithCopyWarning: \n",
      "A value is trying to be set on a copy of a slice from a DataFrame\n",
      "\n",
      "See the caveats in the documentation: http://pandas.pydata.org/pandas-docs/stable/indexing.html#indexing-view-versus-copy\n",
      "  self._setitem_with_indexer(indexer, value)\n"
     ]
    },
    {
     "data": {
      "text/plain": [
       "[<matplotlib.lines.Line2D at 0x7fe24f7e72b0>]"
      ]
     },
     "execution_count": 27,
     "metadata": {},
     "output_type": "execute_result"
    },
    {
     "data": {
      "image/png": "[encoded data removed]",
      "text/plain": [
       "<matplotlib.figure.Figure at 0x7fe2562fcba8>"
      ]
     },
     "metadata": {},
     "output_type": "display_data"
    }
   ],
   "source": [
    "%matplotlib inline\n",
    "\n",
    "import pandas as pd\n",
    "import numpy as np\n",
    "import matplotlib.pyplot as plt\n",
    "\n",
    "\n",
    "def linreg (data):\n",
    "    matrixX = data.as_matrix(columns=['Const','Year'])\n",
    "    matrixt = data.as_matrix(columns=['Time'])\n",
    "    matrixXt = matrixX.transpose()\n",
    "    invert = np.linalg.inv(np.matmul(matrixXt, matrixX))\n",
    "    term2 = np.matmul(matrixXt, matrixt)\n",
    "    return np.matmul(invert, term2)\n",
    "    \n",
    "def scaleData(data, row, option):\n",
    "    #print(yearmean)\n",
    "    \n",
    "    if (option == 1):\n",
    "        for index,rows in data.iterrows():            \n",
    "             \n",
    "            meanminus = rows[row] - yearmean\n",
    "            newframe = meanminus/yearstd\n",
    "            data[row].iloc[index] = newframe \n",
    "            \n",
    "    return data\n",
    "            \n",
    "\n",
    "\n",
    "\n",
    "male100 = pd.read_csv('male100.csv', header = 0)\n",
    "female100 = pd.read_csv('female100.csv',header=0)\n",
    "\n",
    "#male100.to_csv('demo.csv')\n",
    "\n",
    "#male100.plot(x=0,y=1, kind ='scatter', color='g', marker='v'', label=\"Men’s 100m\")\n",
    "\n",
    "print (male100)\n",
    "copymale100 = male100.copy()\n",
    "#print(copymale100)\n",
    "timemean = copymale100['Time'].mean()\n",
    "timestd = copymale100['Time'].std()\n",
    "\n",
    "yearmean = copymale100['Year'].mean()\n",
    "yearstd = copymale100['Year'].std()\n",
    "\n",
    "#To get some basic statistics, we can use the describe() method:\n",
    "#print copymale100['Time'].describe(), \"\\n\"\n",
    "print (yearmean, yearstd)\n",
    "\n",
    "\n",
    "\n",
    "copymale100 = scaleData(copymale100, 'Year', 1)\n",
    "copymale100['Const']=1\n",
    "print(copymale100)\n",
    "\n",
    "w = linreg(copymale100)\n",
    "print (w)\n",
    "ax = male100.plot(x=0,y=1, kind ='scatter', color='g', label=\"Men's 100m\")\n",
    "#female100.plot(x=0,y=1, kind ='scatter', color='r', label=\"Women's 100m\", ax = ax)\n",
    "\n",
    "y = -0.47556462*copymale100['Year']+10.38962963\n",
    "plt.plot(male100['Year'],y,'r-',color = 'r')"
   ]
  },
  {
   "cell_type": "code",
   "execution_count": null,
   "metadata": {
    "collapsed": true
   },
   "outputs": [],
   "source": []
  },
  {
   "cell_type": "code",
   "execution_count": null,
   "metadata": {
    "collapsed": true
   },
   "outputs": [],
   "source": []
  }
 ],
 "metadata": {
  "anaconda-cloud": {},
  "kernelspec": {
   "display_name": "Python [conda root]",
   "language": "python",
   "name": "conda-root-py"
  },
  "language_info": {
   "codemirror_mode": {
    "name": "ipython",
    "version": 3
   },
   "file_extension": ".py",
   "mimetype": "text/x-python",
   "name": "python",
   "nbconvert_exporter": "python",
   "pygments_lexer": "ipython3",
   "version": "3.5.2"
  }
 },
 "nbformat": 4,
 "nbformat_minor": 0
}
