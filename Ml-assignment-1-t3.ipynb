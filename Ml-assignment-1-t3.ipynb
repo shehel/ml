{
 "cells": [
  {
   "cell_type": "code",
   "execution_count": 2,
   "metadata": {
    "collapsed": true
   },
   "outputs": [],
   "source": [
    "import math\n",
    "import pandas as pd\n",
    "import numpy as np\n",
    "import sklearn.linear_model as sk\n",
    "from sklearn.cross_validation import cross_val_score\n"
   ]
  },
  {
   "cell_type": "code",
   "execution_count": 3,
   "metadata": {
    "collapsed": false
   },
   "outputs": [],
   "source": [
    "dfProbeA = pd.read_csv('./UKSA/probeA.csv', header = 0)\n",
    "dfClassA = pd.read_csv('./UKSA/classA.csv', header = 0)\n",
    "\n"
   ]
  },
  {
   "cell_type": "code",
   "execution_count": 4,
   "metadata": {
    "collapsed": true
   },
   "outputs": [],
   "source": [
    "def scaleData(dataFrame,flag):\n",
    "    df = dataFrame.copy()\n",
    "\n",
    "    for var in df:\n",
    "        mean = df[var].mean()\n",
    "        std = df[var].std()\n",
    "        l1 = (df[var].abs()).sum()\n",
    "\n",
    "        if(flag == 1):\n",
    "            df[var] = (df[var]-mean)/std\n",
    "        else:\n",
    "            df[var] = df[var]/l1\n",
    "\n",
    "    return df"
   ]
  },
  {
   "cell_type": "code",
   "execution_count": 5,
   "metadata": {
    "collapsed": true
   },
   "outputs": [],
   "source": [
    "dfScProbeA = scaleData(dfProbeA, 1)"
   ]
  },
  {
   "cell_type": "code",
   "execution_count": 6,
   "metadata": {
    "collapsed": false
   },
   "outputs": [
    {
     "name": "stdout",
     "output_type": "stream",
     "text": [
      "TNA 0.282438931346\n",
      "c1 0.428766949381\n",
      "c2 0.429965837546\n",
      "c3 0.429070462007\n",
      "m1 0.429259789237\n",
      "m2 0.430478505267\n",
      "m3 0.430741455028\n",
      "n1 0.430339040709\n",
      "n2 0.428971936448\n",
      "n3 0.429678334624\n",
      "p1 0.430278631684\n",
      "p2 0.36442960983\n",
      "p3 0.428877120245\n"
     ]
    }
   ],
   "source": [
    "lasso = sk.LassoCV(alphas=np.logspace(-4, 0.5, 300))\n",
    "for i in list(dfProbeA):\n",
    "    dfProbeAdrop = dfProbeA.drop(i,axis=1)\n",
    "    scores = cross_val_score(lasso, dfProbeAdrop, dfClassA.values.ravel(), cv=10, scoring='r2')\n",
    "    print (i, scores.mean())\n",
    "    \n",
    "    \n"
   ]
  },
  {
   "cell_type": "code",
   "execution_count": 7,
   "metadata": {
    "collapsed": false
   },
   "outputs": [
    {
     "name": "stdout",
     "output_type": "stream",
     "text": [
      "3.16227766017 [[ 0.28178491 -0.00106293 -0.00713431  0.02255291 -0.01117644  0.01220845\n",
      "   0.01176487  0.06198169 -0.01133191  0.03346899 -0.00236322  0.13191444\n",
      "   0.00035065]]\n"
     ]
    }
   ],
   "source": [
    "ridge = sk.RidgeCV(alphas=np.logspace(-4, 0.5, 300))\n",
    "ridge.fit(dfScProbeA, dfClassA )\n",
    "print (ridge.alpha_, ridge.coef_)\n"
   ]
  },
  {
   "cell_type": "code",
   "execution_count": null,
   "metadata": {
    "collapsed": false
   },
   "outputs": [],
   "source": [
    "dataFrame = pd.read_csv('playTennis.csv',header = 0)\n",
    "\n",
    "print (infoGain(dataFrame,'outlook','yes','no','play'))\n",
    "\n",
    "\n",
    "# calc info gain for all attributes (but not the class label)\n",
    "#for i in list(dataFrame)[:-1]: # the class label may not always be the last element- but you should know the attr name\n",
    "for i in list(dataFrame.drop('play',axis=1)):\n",
    "    print (i)\n",
    "    print (infoGain(dataFrame,i,'yes','no','play'))\n",
    "\n"
   ]
  },
  {
   "cell_type": "code",
   "execution_count": null,
   "metadata": {
    "collapsed": true
   },
   "outputs": [],
   "source": []
  }
 ],
 "metadata": {
  "anaconda-cloud": {},
  "kernelspec": {
   "display_name": "Python [conda root]",
   "language": "python",
   "name": "conda-root-py"
  },
  "language_info": {
   "codemirror_mode": {
    "name": "ipython",
    "version": 3
   },
   "file_extension": ".py",
   "mimetype": "text/x-python",
   "name": "python",
   "nbconvert_exporter": "python",
   "pygments_lexer": "ipython3",
   "version": "3.5.2"
  }
 },
 "nbformat": 4,
 "nbformat_minor": 1
}
